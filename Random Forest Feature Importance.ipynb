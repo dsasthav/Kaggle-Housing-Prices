{
 "cells": [
  {
   "cell_type": "code",
   "execution_count": 95,
   "metadata": {
    "collapsed": true
   },
   "outputs": [],
   "source": [
    "import numpy as np\n",
    "import pandas as pd\n",
    "import os\n",
    "from sklearn.preprocessing import Imputer\n",
    "from sklearn.ensemble import ExtraTreesClassifier\n",
    "os.chdir(\"/Users/yuchen/Desktop\")"
   ]
  },
  {
   "cell_type": "code",
   "execution_count": 96,
   "metadata": {
    "collapsed": false
   },
   "outputs": [],
   "source": [
    "df = pd.read_csv(\"training.csv\") #import training data set\n",
    "df =pd.get_dummies(df) #create dummy variables for categoricals\n",
    "Y = df.loc[:,'SalePrice'].values\n",
    "df.drop(['Id', 'SalePrice'], axis=1, inplace=True) # drop first column of index IDs and Y column after dummies created"
   ]
  },
  {
   "cell_type": "code",
   "execution_count": 97,
   "metadata": {
    "collapsed": false
   },
   "outputs": [
    {
     "data": {
      "text/plain": [
       "Index([u'MSSubClass', u'LotFrontage', u'LotArea', u'OverallQual',\n",
       "       u'OverallCond', u'YearBuilt', u'YearRemodAdd', u'MasVnrArea',\n",
       "       u'BsmtFinSF1', u'BsmtFinSF2',\n",
       "       ...\n",
       "       u'SaleType_ConLw', u'SaleType_New', u'SaleType_Oth', u'SaleType_WD',\n",
       "       u'SaleCondition_Abnorml', u'SaleCondition_AdjLand',\n",
       "       u'SaleCondition_Alloca', u'SaleCondition_Family',\n",
       "       u'SaleCondition_Normal', u'SaleCondition_Partial'],\n",
       "      dtype='object', length=288)"
      ]
     },
     "execution_count": 97,
     "metadata": {},
     "output_type": "execute_result"
    }
   ],
   "source": [
    "columnNames = df.columns #extract column names\n",
    "columnNames # save column names as an array, will  use late for feature importance"
   ]
  },
  {
   "cell_type": "code",
   "execution_count": 98,
   "metadata": {
    "collapsed": false
   },
   "outputs": [],
   "source": [
    "imputer = Imputer(strategy='mean', axis=0) #constructor that calls Imputer class from sklearn\n",
    "imputer.fit(df) #fit imputer function to training data\n",
    "df = imputer.transform(df) #fill in missing values with mean\n",
    "print(df) "
   ]
  },
  {
   "cell_type": "code",
   "execution_count": 99,
   "metadata": {
    "collapsed": false
   },
   "outputs": [
    {
     "name": "stdout",
     "output_type": "stream",
     "text": [
      "Rows align, ready!\n"
     ]
    }
   ],
   "source": [
    "Y.shape #check Y shape (1460 samples)\n",
    "df.shape #check X shape (1460 x 289 dimensions)\n",
    "if Y.shape[0] == df.shape[0]: # perform check of shapes\n",
    "    print(\"Rows align, ready!\")\n",
    "else:\n",
    "    print(\"Rows do not align- check data structure shape!\")"
   ]
  },
  {
   "cell_type": "code",
   "execution_count": 100,
   "metadata": {
    "collapsed": false
   },
   "outputs": [
    {
     "name": "stdout",
     "output_type": "stream",
     "text": [
      "All df missing values have been imputed\n"
     ]
    }
   ],
   "source": [
    "if np.isfinite(df).all():\n",
    "    print(\"All df missing values have been imputed\")\n",
    "    X = df # rename df as X, since it is ready to be fed into data science models\n",
    "\n",
    "else: # if it is not ready\n",
    "    for col in range(df.shape[1]): #iterate through each column and print how many missing values there are\n",
    "        print(\"Column {0}: {1} missing values\".format(col, np.isnan(df[:,col]).sum()))"
   ]
  },
  {
   "cell_type": "code",
   "execution_count": 132,
   "metadata": {
    "collapsed": false
   },
   "outputs": [
    {
     "name": "stdout",
     "output_type": "stream",
     "text": [
      "Raw importance array:\n",
      "\n",
      "[  1.07188466e-02   1.88242463e-02   2.03176127e-02   1.46001830e-02\n",
      "   1.12592201e-02   1.89569571e-02   1.92601379e-02   1.30527354e-02\n",
      "   1.79876902e-02   4.32012099e-03   2.09887107e-02   2.02073336e-02\n",
      "   2.04000594e-02   1.28581462e-02   8.96119941e-04   2.17140955e-02\n",
      "   1.08927107e-02   3.06795087e-03   7.08563072e-03   8.69385155e-03\n",
      "   1.22593606e-02   1.51578899e-03   1.71412921e-02   1.05741674e-02\n",
      "   1.84573655e-02   9.72277258e-03   2.00331424e-02   1.60073791e-02\n",
      "   1.61180023e-02   5.61728174e-03   1.26726435e-03   4.31903773e-03\n",
      "   2.46546419e-04   1.84442547e-03   2.13682908e-02   1.91968205e-02\n",
      "   3.30498926e-04   1.50086412e-03   6.94411540e-04   5.02442413e-03\n",
      "   3.59333862e-03   1.67119184e-04   1.43055564e-04   1.54539201e-03\n",
      "   1.29468847e-03   8.62347219e-03   1.80879195e-03   4.15608575e-04\n",
      "   8.64630328e-03   1.80380021e-03   1.69137838e-03   1.21547138e-03\n",
      "   4.19025629e-03   1.65740175e-05   3.06690135e-05   7.81903252e-03\n",
      "   3.61233816e-03   2.17296938e-03   2.05485329e-04   9.90911941e-03\n",
      "   2.10487123e-03   2.03242313e-03   3.08504579e-04   4.03973732e-04\n",
      "   6.70554326e-05   3.87397659e-04   1.76258597e-03   8.65458329e-04\n",
      "   4.24300744e-03   1.58181988e-03   3.29692436e-03   2.25038564e-03\n",
      "   1.28940407e-03   4.02498983e-04   1.77570894e-03   4.63170128e-03\n",
      "   3.87176463e-04   2.01937710e-03   1.41355718e-03   2.20789428e-03\n",
      "   2.41837446e-03   7.57069885e-04   2.51107915e-03   2.29955289e-03\n",
      "   2.26324939e-03   9.10536038e-04   1.57926850e-03   4.48917518e-04\n",
      "   1.68577054e-03   2.54824551e-03   5.79828371e-03   2.45194056e-04\n",
      "   8.94127041e-04   3.65909249e-04   1.13397610e-03   9.40137399e-05\n",
      "   1.30229644e-04   5.48622190e-05   1.48657967e-04   4.19768550e-04\n",
      "   1.87283622e-05   7.85112530e-05   1.59743546e-05   2.78678499e-05\n",
      "   5.63222500e-05   3.83495523e-03   7.56171479e-04   1.10854010e-03\n",
      "   1.53221777e-03   2.66951714e-03   3.52690919e-03   5.44312539e-04\n",
      "   7.90341041e-03   2.65308332e-04   3.93667928e-04   6.37917231e-03\n",
      "   1.19050655e-03   2.11141330e-03   3.21847970e-04   7.51164130e-03\n",
      "   3.50893110e-04   6.85956126e-03   1.73130044e-04   3.11760006e-05\n",
      "   2.74845517e-05   7.20259000e-04   2.58534646e-05   3.34023117e-05\n",
      "   2.57474408e-05   2.69970513e-04   1.27937824e-04   2.31543354e-04\n",
      "   6.94798343e-04   4.17551451e-05   6.91208800e-05   1.72981614e-03\n",
      "   1.40367532e-05   1.94591294e-03   5.04659005e-03   4.14507310e-05\n",
      "   5.31827561e-03   2.86525621e-03   6.60173189e-05   8.83686516e-04\n",
      "   6.19551761e-03   4.67598976e-03   1.15204735e-03   7.55506022e-04\n",
      "   1.07374456e-04   3.75973369e-04   8.51753549e-04   2.80660670e-05\n",
      "   1.83822111e-03   5.32817217e-03   4.35407551e-04   5.23447714e-03\n",
      "   4.40363425e-05   3.79762412e-03   1.83287042e-04   9.17189535e-04\n",
      "   6.20958014e-03   4.57385696e-03   1.43490095e-03   5.23050197e-04\n",
      "   8.09739590e-03   7.85391146e-03   3.34689711e-03   1.10823324e-03\n",
      "   3.33369237e-04   3.95921066e-03   3.86263969e-03   1.08084444e-04\n",
      "   8.21270923e-04   4.02686480e-03   1.37617559e-05   4.78837619e-03\n",
      "   2.99694821e-03   5.72679413e-03   4.35270318e-03   7.11550783e-04\n",
      "   2.06666783e-04   1.17502751e-04   2.24569060e-03   1.03212009e-03\n",
      "   5.79844399e-03   5.21713801e-03   1.46972340e-03   2.65437399e-03\n",
      "   6.08519080e-05   4.59395424e-03   6.91428864e-03   4.36080252e-03\n",
      "   4.31916358e-03   9.62678537e-03   6.52723187e-03   4.61070154e-03\n",
      "   7.15042243e-03   2.75778214e-03   4.00348683e-03   8.44559543e-03\n",
      "   8.01566681e-04   1.26435907e-03   4.75484849e-04   1.69373402e-03\n",
      "   1.88444712e-03   5.42805398e-03   4.12920083e-05   8.09980167e-04\n",
      "   4.03256621e-04   1.78089172e-04   5.85016891e-05   1.06577124e-04\n",
      "   7.59748255e-03   1.77213831e-03   7.07910292e-03   1.45144609e-05\n",
      "   7.23798695e-03   1.95726738e-03   2.02968448e-03   2.71890364e-03\n",
      "   8.79424533e-04   9.58371598e-05   1.64907310e-05   3.19150292e-03\n",
      "   2.07581214e-03   1.08856012e-03   5.86757890e-03   5.33188351e-03\n",
      "   6.30942660e-04   1.80382416e-04   1.13845721e-03   1.06857454e-03\n",
      "   5.15297731e-04   1.65856558e-05   2.95573993e-03   9.69664171e-04\n",
      "   1.58890874e-03   8.03374543e-03   7.55619538e-04   6.73902223e-03\n",
      "   1.71241057e-04   7.18253128e-03   5.39026916e-04   2.47719291e-03\n",
      "   2.88295354e-04   5.26694783e-03   6.76453423e-03   7.70593114e-03\n",
      "   6.21247318e-03   9.70859267e-05   1.21630144e-03   5.41202860e-04\n",
      "   9.70543676e-05   3.04767565e-03   8.16902675e-05   1.08383883e-03\n",
      "   2.93279860e-04   1.92231024e-04   2.93124415e-03   2.01570461e-03\n",
      "   9.69270874e-04   2.64786481e-03   6.34211813e-05   6.07054118e-05\n",
      "   9.74885411e-05   2.26290400e-03   2.32006076e-03   4.88441225e-03\n",
      "   4.18354414e-04   4.28352667e-05   5.47074751e-05   1.82238375e-03\n",
      "   2.44307126e-05   1.68913141e-03   1.63762116e-04   1.08302087e-04\n",
      "   3.96664911e-04   2.05966203e-04   2.41033062e-04   2.58629025e-03\n",
      "   1.47763659e-04   4.70302622e-03   3.62595455e-03   1.19634593e-04\n",
      "   4.09913273e-04   9.33850130e-04   6.48627293e-03   2.50704636e-03]\n"
     ]
    }
   ],
   "source": [
    "forest = ExtraTreesClassifier(n_estimators=250, random_state=0)\n",
    "forest.fit(X, Y)\n",
    "importances = forest.feature_importances_ #generate array of feature importances\n",
    "print(\"Raw importance array:\\n\")\n",
    "print(importances)"
   ]
  },
  {
   "cell_type": "code",
   "execution_count": 133,
   "metadata": {
    "collapsed": false
   },
   "outputs": [
    {
     "data": {
      "text/plain": [
       "True"
      ]
     },
     "execution_count": 133,
     "metadata": {},
     "output_type": "execute_result"
    }
   ],
   "source": [
    "#check if importance array shape matches number of dimensions\n",
    "len(importances) == X.shape[1]"
   ]
  },
  {
   "cell_type": "code",
   "execution_count": 130,
   "metadata": {
    "collapsed": false
   },
   "outputs": [
    {
     "data": {
      "text/html": [
       "<div>\n",
       "<table border=\"1\" class=\"dataframe\">\n",
       "  <thead>\n",
       "    <tr style=\"text-align: right;\">\n",
       "      <th></th>\n",
       "      <th>Feature Importance</th>\n",
       "    </tr>\n",
       "  </thead>\n",
       "  <tbody>\n",
       "    <tr>\n",
       "      <th>GrLivArea</th>\n",
       "      <td>2.17</td>\n",
       "    </tr>\n",
       "    <tr>\n",
       "      <th>MoSold</th>\n",
       "      <td>2.14</td>\n",
       "    </tr>\n",
       "    <tr>\n",
       "      <th>BsmtUnfSF</th>\n",
       "      <td>2.10</td>\n",
       "    </tr>\n",
       "    <tr>\n",
       "      <th>1stFlrSF</th>\n",
       "      <td>2.04</td>\n",
       "    </tr>\n",
       "    <tr>\n",
       "      <th>LotArea</th>\n",
       "      <td>2.03</td>\n",
       "    </tr>\n",
       "    <tr>\n",
       "      <th>TotalBsmtSF</th>\n",
       "      <td>2.02</td>\n",
       "    </tr>\n",
       "    <tr>\n",
       "      <th>GarageArea</th>\n",
       "      <td>2.00</td>\n",
       "    </tr>\n",
       "    <tr>\n",
       "      <th>YearRemodAdd</th>\n",
       "      <td>1.93</td>\n",
       "    </tr>\n",
       "    <tr>\n",
       "      <th>YrSold</th>\n",
       "      <td>1.92</td>\n",
       "    </tr>\n",
       "    <tr>\n",
       "      <th>YearBuilt</th>\n",
       "      <td>1.90</td>\n",
       "    </tr>\n",
       "  </tbody>\n",
       "</table>\n",
       "</div>"
      ],
      "text/plain": [
       "              Feature Importance\n",
       "GrLivArea                   2.17\n",
       "MoSold                      2.14\n",
       "BsmtUnfSF                   2.10\n",
       "1stFlrSF                    2.04\n",
       "LotArea                     2.03\n",
       "TotalBsmtSF                 2.02\n",
       "GarageArea                  2.00\n",
       "YearRemodAdd                1.93\n",
       "YrSold                      1.92\n",
       "YearBuilt                   1.90"
      ]
     },
     "execution_count": 130,
     "metadata": {},
     "output_type": "execute_result"
    }
   ],
   "source": [
    "#construct a new dataframe to hold feature importance data, NOTE: importances are percents out of 100%\n",
    "feature_importance = pd.DataFrame(importances*100, index=columnNames, columns= [\"Feature Importance\"])\n",
    "feature_importance = feature_importance.round(2) # round to 2 decimal places to make it easier to read\n",
    "feature_importance = feature_importance.sort_values(by=['Feature Importance'],ascending=False) #sort descending\n",
    "\n",
    "#cut off and print the top 10 most important values\n",
    "feature_importance.head(n=10)"
   ]
  }
 ],
 "metadata": {
  "kernelspec": {
   "display_name": "Python [Root]",
   "language": "python",
   "name": "Python [Root]"
  },
  "language_info": {
   "codemirror_mode": {
    "name": "ipython",
    "version": 2
   },
   "file_extension": ".py",
   "mimetype": "text/x-python",
   "name": "python",
   "nbconvert_exporter": "python",
   "pygments_lexer": "ipython2",
   "version": "2.7.12"
  }
 },
 "nbformat": 4,
 "nbformat_minor": 0
}
