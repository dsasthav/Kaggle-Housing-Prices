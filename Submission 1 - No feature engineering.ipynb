{
 "cells": [
  {
   "cell_type": "markdown",
   "metadata": {},
   "source": [
    "### Overview"
   ]
  },
  {
   "cell_type": "markdown",
   "metadata": {},
   "source": [
    "This first pass will include standard linear regression models (regular, lasso, ridge, and elasticnet). However, we will keep the preprocessing steps simple by just transforming skewed variables. Whichever model has the lowest RMSE will be submitted as a first pass.\n",
    "\n",
    "Further iterations will include more advanced variable selection and feature engineering."
   ]
  },
  {
   "cell_type": "code",
   "execution_count": 1,
   "metadata": {
    "collapsed": true
   },
   "outputs": [],
   "source": [
    "import pandas as pd\n",
    "import numpy as np\n",
    "from scipy.stats import skew\n",
    "from sklearn.linear_model import LinearRegression"
   ]
  },
  {
   "cell_type": "code",
   "execution_count": 57,
   "metadata": {
    "collapsed": false
   },
   "outputs": [
    {
     "data": {
      "text/html": [
       "<div>\n",
       "<table border=\"1\" class=\"dataframe\">\n",
       "  <thead>\n",
       "    <tr style=\"text-align: right;\">\n",
       "      <th></th>\n",
       "      <th>MSSubClass</th>\n",
       "      <th>MSZoning</th>\n",
       "      <th>LotFrontage</th>\n",
       "      <th>LotArea</th>\n",
       "      <th>Street</th>\n",
       "      <th>Alley</th>\n",
       "      <th>LotShape</th>\n",
       "      <th>LandContour</th>\n",
       "      <th>Utilities</th>\n",
       "      <th>LotConfig</th>\n",
       "      <th>...</th>\n",
       "      <th>PoolArea</th>\n",
       "      <th>PoolQC</th>\n",
       "      <th>Fence</th>\n",
       "      <th>MiscFeature</th>\n",
       "      <th>MiscVal</th>\n",
       "      <th>MoSold</th>\n",
       "      <th>YrSold</th>\n",
       "      <th>SaleType</th>\n",
       "      <th>SaleCondition</th>\n",
       "      <th>SalePrice</th>\n",
       "    </tr>\n",
       "    <tr>\n",
       "      <th>Id</th>\n",
       "      <th></th>\n",
       "      <th></th>\n",
       "      <th></th>\n",
       "      <th></th>\n",
       "      <th></th>\n",
       "      <th></th>\n",
       "      <th></th>\n",
       "      <th></th>\n",
       "      <th></th>\n",
       "      <th></th>\n",
       "      <th></th>\n",
       "      <th></th>\n",
       "      <th></th>\n",
       "      <th></th>\n",
       "      <th></th>\n",
       "      <th></th>\n",
       "      <th></th>\n",
       "      <th></th>\n",
       "      <th></th>\n",
       "      <th></th>\n",
       "      <th></th>\n",
       "    </tr>\n",
       "  </thead>\n",
       "  <tbody>\n",
       "    <tr>\n",
       "      <th>1</th>\n",
       "      <td>60</td>\n",
       "      <td>RL</td>\n",
       "      <td>65.0</td>\n",
       "      <td>8450</td>\n",
       "      <td>Pave</td>\n",
       "      <td>NaN</td>\n",
       "      <td>Reg</td>\n",
       "      <td>Lvl</td>\n",
       "      <td>AllPub</td>\n",
       "      <td>Inside</td>\n",
       "      <td>...</td>\n",
       "      <td>0</td>\n",
       "      <td>NaN</td>\n",
       "      <td>NaN</td>\n",
       "      <td>NaN</td>\n",
       "      <td>0</td>\n",
       "      <td>2</td>\n",
       "      <td>2008</td>\n",
       "      <td>WD</td>\n",
       "      <td>Normal</td>\n",
       "      <td>208500</td>\n",
       "    </tr>\n",
       "    <tr>\n",
       "      <th>2</th>\n",
       "      <td>20</td>\n",
       "      <td>RL</td>\n",
       "      <td>80.0</td>\n",
       "      <td>9600</td>\n",
       "      <td>Pave</td>\n",
       "      <td>NaN</td>\n",
       "      <td>Reg</td>\n",
       "      <td>Lvl</td>\n",
       "      <td>AllPub</td>\n",
       "      <td>FR2</td>\n",
       "      <td>...</td>\n",
       "      <td>0</td>\n",
       "      <td>NaN</td>\n",
       "      <td>NaN</td>\n",
       "      <td>NaN</td>\n",
       "      <td>0</td>\n",
       "      <td>5</td>\n",
       "      <td>2007</td>\n",
       "      <td>WD</td>\n",
       "      <td>Normal</td>\n",
       "      <td>181500</td>\n",
       "    </tr>\n",
       "    <tr>\n",
       "      <th>3</th>\n",
       "      <td>60</td>\n",
       "      <td>RL</td>\n",
       "      <td>68.0</td>\n",
       "      <td>11250</td>\n",
       "      <td>Pave</td>\n",
       "      <td>NaN</td>\n",
       "      <td>IR1</td>\n",
       "      <td>Lvl</td>\n",
       "      <td>AllPub</td>\n",
       "      <td>Inside</td>\n",
       "      <td>...</td>\n",
       "      <td>0</td>\n",
       "      <td>NaN</td>\n",
       "      <td>NaN</td>\n",
       "      <td>NaN</td>\n",
       "      <td>0</td>\n",
       "      <td>9</td>\n",
       "      <td>2008</td>\n",
       "      <td>WD</td>\n",
       "      <td>Normal</td>\n",
       "      <td>223500</td>\n",
       "    </tr>\n",
       "    <tr>\n",
       "      <th>4</th>\n",
       "      <td>70</td>\n",
       "      <td>RL</td>\n",
       "      <td>60.0</td>\n",
       "      <td>9550</td>\n",
       "      <td>Pave</td>\n",
       "      <td>NaN</td>\n",
       "      <td>IR1</td>\n",
       "      <td>Lvl</td>\n",
       "      <td>AllPub</td>\n",
       "      <td>Corner</td>\n",
       "      <td>...</td>\n",
       "      <td>0</td>\n",
       "      <td>NaN</td>\n",
       "      <td>NaN</td>\n",
       "      <td>NaN</td>\n",
       "      <td>0</td>\n",
       "      <td>2</td>\n",
       "      <td>2006</td>\n",
       "      <td>WD</td>\n",
       "      <td>Abnorml</td>\n",
       "      <td>140000</td>\n",
       "    </tr>\n",
       "    <tr>\n",
       "      <th>5</th>\n",
       "      <td>60</td>\n",
       "      <td>RL</td>\n",
       "      <td>84.0</td>\n",
       "      <td>14260</td>\n",
       "      <td>Pave</td>\n",
       "      <td>NaN</td>\n",
       "      <td>IR1</td>\n",
       "      <td>Lvl</td>\n",
       "      <td>AllPub</td>\n",
       "      <td>FR2</td>\n",
       "      <td>...</td>\n",
       "      <td>0</td>\n",
       "      <td>NaN</td>\n",
       "      <td>NaN</td>\n",
       "      <td>NaN</td>\n",
       "      <td>0</td>\n",
       "      <td>12</td>\n",
       "      <td>2008</td>\n",
       "      <td>WD</td>\n",
       "      <td>Normal</td>\n",
       "      <td>250000</td>\n",
       "    </tr>\n",
       "  </tbody>\n",
       "</table>\n",
       "<p>5 rows × 80 columns</p>\n",
       "</div>"
      ],
      "text/plain": [
       "    MSSubClass MSZoning  LotFrontage  LotArea Street Alley LotShape  \\\n",
       "Id                                                                    \n",
       "1           60       RL         65.0     8450   Pave   NaN      Reg   \n",
       "2           20       RL         80.0     9600   Pave   NaN      Reg   \n",
       "3           60       RL         68.0    11250   Pave   NaN      IR1   \n",
       "4           70       RL         60.0     9550   Pave   NaN      IR1   \n",
       "5           60       RL         84.0    14260   Pave   NaN      IR1   \n",
       "\n",
       "   LandContour Utilities LotConfig    ...     PoolArea PoolQC Fence  \\\n",
       "Id                                    ...                             \n",
       "1          Lvl    AllPub    Inside    ...            0    NaN   NaN   \n",
       "2          Lvl    AllPub       FR2    ...            0    NaN   NaN   \n",
       "3          Lvl    AllPub    Inside    ...            0    NaN   NaN   \n",
       "4          Lvl    AllPub    Corner    ...            0    NaN   NaN   \n",
       "5          Lvl    AllPub       FR2    ...            0    NaN   NaN   \n",
       "\n",
       "   MiscFeature MiscVal MoSold  YrSold  SaleType  SaleCondition  SalePrice  \n",
       "Id                                                                         \n",
       "1          NaN       0      2    2008        WD         Normal     208500  \n",
       "2          NaN       0      5    2007        WD         Normal     181500  \n",
       "3          NaN       0      9    2008        WD         Normal     223500  \n",
       "4          NaN       0      2    2006        WD        Abnorml     140000  \n",
       "5          NaN       0     12    2008        WD         Normal     250000  \n",
       "\n",
       "[5 rows x 80 columns]"
      ]
     },
     "execution_count": 57,
     "metadata": {},
     "output_type": "execute_result"
    }
   ],
   "source": [
    "# Read in the data\n",
    "\n",
    "train = pd.read_csv(\"train.csv\", index_col = 0)\n",
    "test = pd.read_csv(\"test.csv\", index_col = 0)\n",
    "\n",
    "train.head()"
   ]
  },
  {
   "cell_type": "code",
   "execution_count": 58,
   "metadata": {
    "collapsed": false
   },
   "outputs": [
    {
     "name": "stdout",
     "output_type": "stream",
     "text": [
      "(2919, 79)\n"
     ]
    }
   ],
   "source": [
    "# concatenate the data together\n",
    "\n",
    "all_data = pd.concat((train.loc[:,'MSSubClass':'SaleCondition'],test.loc[:,'MSSubClass':'SaleCondition']))\n",
    "print all_data.shape"
   ]
  },
  {
   "cell_type": "code",
   "execution_count": 59,
   "metadata": {
    "collapsed": false
   },
   "outputs": [
    {
     "name": "stdout",
     "output_type": "stream",
     "text": [
      "Numeric Variables:\n",
      "LotFrontage has 18.0 % of NaN\n",
      "MasVnrArea has 1.0 % of NaN\n",
      "GarageYrBlt has 6.0 % of NaN\n",
      "\n",
      "Categorical Variables:\n",
      "Alley has 94.0 % of NaN\n",
      "MasVnrType has 1.0 % of NaN\n",
      "BsmtQual has 3.0 % of NaN\n",
      "BsmtCond has 3.0 % of NaN\n",
      "BsmtExposure has 3.0 % of NaN\n",
      "BsmtFinType1 has 3.0 % of NaN\n",
      "BsmtFinType2 has 3.0 % of NaN\n",
      "Electrical has 0.0 % of NaN\n",
      "FireplaceQu has 47.0 % of NaN\n",
      "GarageType has 6.0 % of NaN\n",
      "GarageFinish has 6.0 % of NaN\n",
      "GarageQual has 6.0 % of NaN\n",
      "GarageCond has 6.0 % of NaN\n",
      "PoolQC has 100.0 % of NaN\n",
      "Fence has 81.0 % of NaN\n",
      "MiscFeature has 96.0 % of NaN\n"
     ]
    }
   ],
   "source": [
    "# Check which columns have a lot of NA's in training data\n",
    "\n",
    "#train.fillna(value=-999.0,inplace=True)\n",
    "#test.fillna(value=-999.0,inplace=True)\n",
    "\n",
    "print \"Numeric Variables:\"\n",
    "list_feature_Nan = []\n",
    "for i in train.select_dtypes(exclude=['object']).columns:\n",
    "    if (train[i].isnull()).astype(int).sum() > 0:\n",
    "        print i, \"has\", round(((train[i].isnull()).astype(int).sum()/1460.0)*100), \"% of NaN\"\n",
    "        list_feature_Nan.append(i)\n",
    "print\n",
    "\n",
    "print \"Categorical Variables:\"\n",
    "for i in train.select_dtypes(include=['object']).columns:\n",
    "    if (train[i].isnull()).astype(int).sum() > 0:\n",
    "        print i, \"has\", round(((train[i].isnull()).astype(int).sum()/1460.0)*100), \"% of NaN\""
   ]
  },
  {
   "cell_type": "code",
   "execution_count": 60,
   "metadata": {
    "collapsed": false
   },
   "outputs": [],
   "source": [
    "# Define variable list for numeric variables and categorical variables for later preprocessing\n",
    "non_num_cat_vars = [\"MSSubclass\"]\n",
    "cat_vars = train.select_dtypes(include=['object']).columns.tolist()\n",
    "cat_vars.append(non_num_cat_vars)\n",
    "num_vars = train.select_dtypes(exclude=['object']).columns.tolist()\n",
    "num_vars.remove(\"SalePrice\")"
   ]
  },
  {
   "cell_type": "code",
   "execution_count": 61,
   "metadata": {
    "collapsed": false
   },
   "outputs": [],
   "source": [
    "# Find all numeric variables that are skewed and transform them   \n",
    "\n",
    "# Compute skewness\n",
    "skewed_vars = train[num_vars].apply(lambda x: skew(x.dropna()))\n",
    "skewed_vars = skewed_vars[skewed_vars > 0.8]\n",
    "skewed_vars = skewed_vars.index\n",
    "\n",
    "all_data[skewed_vars] = np.log1p(all_data[skewed_vars])"
   ]
  },
  {
   "cell_type": "code",
   "execution_count": 69,
   "metadata": {
    "collapsed": false
   },
   "outputs": [
    {
     "name": "stdout",
     "output_type": "stream",
     "text": [
      "    MSSubClass MSZoning  LotFrontage   LotArea Street Alley LotShape  \\\n",
      "Id                                                                     \n",
      "1     4.110874       RL     4.189655  9.042040   Pave   NaN      Reg   \n",
      "2     3.044522       RL     4.394449  9.169623   Pave   NaN      Reg   \n",
      "3     4.110874       RL     4.234107  9.328212   Pave   NaN      IR1   \n",
      "4     4.262680       RL     4.110874  9.164401   Pave   NaN      IR1   \n",
      "5     4.110874       RL     4.442651  9.565284   Pave   NaN      IR1   \n",
      "6     3.931826       RL     4.454347  9.555064   Pave   NaN      IR1   \n",
      "7     3.044522       RL     4.330733  9.218804   Pave   NaN      Reg   \n",
      "8     4.110874       RL     4.196175  9.247925   Pave   NaN      IR1   \n",
      "9     3.931826       RM     3.951244  8.719481   Pave   NaN      Reg   \n",
      "10    5.252273       RL     3.931826  8.912069   Pave   NaN      Reg   \n",
      "\n",
      "   LandContour Utilities LotConfig      ...       ScreenPorch PoolArea PoolQC  \\\n",
      "Id                                      ...                                     \n",
      "1          Lvl    AllPub    Inside      ...               0.0      0.0    NaN   \n",
      "2          Lvl    AllPub       FR2      ...               0.0      0.0    NaN   \n",
      "3          Lvl    AllPub    Inside      ...               0.0      0.0    NaN   \n",
      "4          Lvl    AllPub    Corner      ...               0.0      0.0    NaN   \n",
      "5          Lvl    AllPub       FR2      ...               0.0      0.0    NaN   \n",
      "6          Lvl    AllPub    Inside      ...               0.0      0.0    NaN   \n",
      "7          Lvl    AllPub    Inside      ...               0.0      0.0    NaN   \n",
      "8          Lvl    AllPub    Corner      ...               0.0      0.0    NaN   \n",
      "9          Lvl    AllPub    Inside      ...               0.0      0.0    NaN   \n",
      "10         Lvl    AllPub    Corner      ...               0.0      0.0    NaN   \n",
      "\n",
      "    Fence MiscFeature   MiscVal  MoSold  YrSold  SaleType  SaleCondition  \n",
      "Id                                                                        \n",
      "1     NaN         NaN  0.000000       2    2008        WD         Normal  \n",
      "2     NaN         NaN  0.000000       5    2007        WD         Normal  \n",
      "3     NaN         NaN  0.000000       9    2008        WD         Normal  \n",
      "4     NaN         NaN  0.000000       2    2006        WD        Abnorml  \n",
      "5     NaN         NaN  0.000000      12    2008        WD         Normal  \n",
      "6   MnPrv        Shed  6.552508      10    2009        WD         Normal  \n",
      "7     NaN         NaN  0.000000       8    2007        WD         Normal  \n",
      "8     NaN        Shed  5.860786      11    2009        WD         Normal  \n",
      "9     NaN         NaN  0.000000       4    2008        WD        Abnorml  \n",
      "10    NaN         NaN  0.000000       1    2008        WD         Normal  \n",
      "\n",
      "[10 rows x 79 columns]\n"
     ]
    }
   ],
   "source": [
    "from sklearn.preprocessing import scale\n",
    "\n",
    "# For numeric variables, Impute missing values with mean\n",
    "all_data[num_vars] = all_data[num_vars].fillna(all_data[num_vars].mean())\n",
    "\n",
    "# Standardize the numeric variables\n"
   ]
  },
  {
   "cell_type": "code",
   "execution_count": 77,
   "metadata": {
    "collapsed": false
   },
   "outputs": [],
   "source": [
    "df[num_vars] = df[num_vars].apply(lambda x: x - np.mean(x) / np.std(x))"
   ]
  },
  {
   "cell_type": "code",
   "execution_count": 79,
   "metadata": {
    "collapsed": false
   },
   "outputs": [
    {
     "name": "stdout",
     "output_type": "stream",
     "text": [
      "0.322594268532\n"
     ]
    }
   ],
   "source": [
    "print np.std(df[\"1stFlrSF\"])"
   ]
  },
  {
   "cell_type": "code",
   "execution_count": 64,
   "metadata": {
    "collapsed": true
   },
   "outputs": [],
   "source": [
    "# Transform the target variable (log)\n",
    "train[\"log_SalePrice\"] = np.log1p(train[\"SalePrice\"])"
   ]
  },
  {
   "cell_type": "code",
   "execution_count": null,
   "metadata": {
    "collapsed": true
   },
   "outputs": [],
   "source": [
    "# Figure out what to do with missing categorical variables"
   ]
  },
  {
   "cell_type": "code",
   "execution_count": 11,
   "metadata": {
    "collapsed": true
   },
   "outputs": [],
   "source": [
    "# Get dummy variables for all categorical variables"
   ]
  },
  {
   "cell_type": "code",
   "execution_count": 13,
   "metadata": {
    "collapsed": true
   },
   "outputs": [],
   "source": [
    "# Import all models from sklearn into environment\n",
    "\n",
    "# Import all the right evaluation metrics and cross-validation modules"
   ]
  },
  {
   "cell_type": "code",
   "execution_count": 14,
   "metadata": {
    "collapsed": true
   },
   "outputs": [],
   "source": [
    "# Define a function for RMSLE (see Kaggle's formula)"
   ]
  },
  {
   "cell_type": "code",
   "execution_count": 15,
   "metadata": {
    "collapsed": true
   },
   "outputs": [],
   "source": [
    "# Test out generic LinearRegression to get baseline RMSLE"
   ]
  },
  {
   "cell_type": "code",
   "execution_count": 16,
   "metadata": {
    "collapsed": true
   },
   "outputs": [],
   "source": [
    "# Test out Lasso Regression with different values of lambda\n",
    "\n",
    "# Find optimal lambda\n",
    "\n",
    "# Plot results\n"
   ]
  },
  {
   "cell_type": "code",
   "execution_count": 17,
   "metadata": {
    "collapsed": true
   },
   "outputs": [],
   "source": [
    "# Test out Ridge Regression with different values of lambda\n",
    "\n",
    "# Find optimal lambda\n",
    "# Plot results"
   ]
  },
  {
   "cell_type": "code",
   "execution_count": null,
   "metadata": {
    "collapsed": true
   },
   "outputs": [],
   "source": [
    "# Test out Elastic Net with different values of alpha\n",
    "\n",
    "# Find optimal alpha\n",
    "\n",
    "# Plot results"
   ]
  }
 ],
 "metadata": {
  "kernelspec": {
   "display_name": "Python 2",
   "language": "python",
   "name": "python2"
  },
  "language_info": {
   "codemirror_mode": {
    "name": "ipython",
    "version": 2
   },
   "file_extension": ".py",
   "mimetype": "text/x-python",
   "name": "python",
   "nbconvert_exporter": "python",
   "pygments_lexer": "ipython2",
   "version": "2.7.11"
  }
 },
 "nbformat": 4,
 "nbformat_minor": 0
}
