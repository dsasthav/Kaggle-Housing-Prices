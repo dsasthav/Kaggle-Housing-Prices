{
 "cells": [
  {
   "cell_type": "markdown",
   "metadata": {},
   "source": [
    "### Overview"
   ]
  },
  {
   "cell_type": "markdown",
   "metadata": {},
   "source": [
    "This first pass will include standard linear regression models (regular, lasso, ridge, and elasticnet). However, we will keep the preprocessing steps simple by just transforming skewed variables. Whichever model has the lowest RMSE will be submitted as a first pass.\n",
    "\n",
    "Further iterations will include more advanced variable selection and feature engineering."
   ]
  },
  {
   "cell_type": "markdown",
   "metadata": {},
   "source": [
    "### Load Data and Important Modules"
   ]
  },
  {
   "cell_type": "code",
   "execution_count": 1,
   "metadata": {
    "collapsed": true
   },
   "outputs": [],
   "source": [
    "import pandas as pd\n",
    "import numpy as np\n",
    "import matplotlib.pyplot as plt"
   ]
  },
  {
   "cell_type": "code",
   "execution_count": 2,
   "metadata": {
    "collapsed": false
   },
   "outputs": [
    {
     "data": {
      "text/html": [
       "<div>\n",
       "<table border=\"1\" class=\"dataframe\">\n",
       "  <thead>\n",
       "    <tr style=\"text-align: right;\">\n",
       "      <th></th>\n",
       "      <th>MSSubClass</th>\n",
       "      <th>MSZoning</th>\n",
       "      <th>LotFrontage</th>\n",
       "      <th>LotArea</th>\n",
       "      <th>Street</th>\n",
       "      <th>Alley</th>\n",
       "      <th>LotShape</th>\n",
       "      <th>LandContour</th>\n",
       "      <th>Utilities</th>\n",
       "      <th>LotConfig</th>\n",
       "      <th>...</th>\n",
       "      <th>PoolArea</th>\n",
       "      <th>PoolQC</th>\n",
       "      <th>Fence</th>\n",
       "      <th>MiscFeature</th>\n",
       "      <th>MiscVal</th>\n",
       "      <th>MoSold</th>\n",
       "      <th>YrSold</th>\n",
       "      <th>SaleType</th>\n",
       "      <th>SaleCondition</th>\n",
       "      <th>SalePrice</th>\n",
       "    </tr>\n",
       "    <tr>\n",
       "      <th>Id</th>\n",
       "      <th></th>\n",
       "      <th></th>\n",
       "      <th></th>\n",
       "      <th></th>\n",
       "      <th></th>\n",
       "      <th></th>\n",
       "      <th></th>\n",
       "      <th></th>\n",
       "      <th></th>\n",
       "      <th></th>\n",
       "      <th></th>\n",
       "      <th></th>\n",
       "      <th></th>\n",
       "      <th></th>\n",
       "      <th></th>\n",
       "      <th></th>\n",
       "      <th></th>\n",
       "      <th></th>\n",
       "      <th></th>\n",
       "      <th></th>\n",
       "      <th></th>\n",
       "    </tr>\n",
       "  </thead>\n",
       "  <tbody>\n",
       "    <tr>\n",
       "      <th>1</th>\n",
       "      <td>60</td>\n",
       "      <td>RL</td>\n",
       "      <td>65.0</td>\n",
       "      <td>8450</td>\n",
       "      <td>Pave</td>\n",
       "      <td>NaN</td>\n",
       "      <td>Reg</td>\n",
       "      <td>Lvl</td>\n",
       "      <td>AllPub</td>\n",
       "      <td>Inside</td>\n",
       "      <td>...</td>\n",
       "      <td>0</td>\n",
       "      <td>NaN</td>\n",
       "      <td>NaN</td>\n",
       "      <td>NaN</td>\n",
       "      <td>0</td>\n",
       "      <td>2</td>\n",
       "      <td>2008</td>\n",
       "      <td>WD</td>\n",
       "      <td>Normal</td>\n",
       "      <td>208500</td>\n",
       "    </tr>\n",
       "    <tr>\n",
       "      <th>2</th>\n",
       "      <td>20</td>\n",
       "      <td>RL</td>\n",
       "      <td>80.0</td>\n",
       "      <td>9600</td>\n",
       "      <td>Pave</td>\n",
       "      <td>NaN</td>\n",
       "      <td>Reg</td>\n",
       "      <td>Lvl</td>\n",
       "      <td>AllPub</td>\n",
       "      <td>FR2</td>\n",
       "      <td>...</td>\n",
       "      <td>0</td>\n",
       "      <td>NaN</td>\n",
       "      <td>NaN</td>\n",
       "      <td>NaN</td>\n",
       "      <td>0</td>\n",
       "      <td>5</td>\n",
       "      <td>2007</td>\n",
       "      <td>WD</td>\n",
       "      <td>Normal</td>\n",
       "      <td>181500</td>\n",
       "    </tr>\n",
       "    <tr>\n",
       "      <th>3</th>\n",
       "      <td>60</td>\n",
       "      <td>RL</td>\n",
       "      <td>68.0</td>\n",
       "      <td>11250</td>\n",
       "      <td>Pave</td>\n",
       "      <td>NaN</td>\n",
       "      <td>IR1</td>\n",
       "      <td>Lvl</td>\n",
       "      <td>AllPub</td>\n",
       "      <td>Inside</td>\n",
       "      <td>...</td>\n",
       "      <td>0</td>\n",
       "      <td>NaN</td>\n",
       "      <td>NaN</td>\n",
       "      <td>NaN</td>\n",
       "      <td>0</td>\n",
       "      <td>9</td>\n",
       "      <td>2008</td>\n",
       "      <td>WD</td>\n",
       "      <td>Normal</td>\n",
       "      <td>223500</td>\n",
       "    </tr>\n",
       "    <tr>\n",
       "      <th>4</th>\n",
       "      <td>70</td>\n",
       "      <td>RL</td>\n",
       "      <td>60.0</td>\n",
       "      <td>9550</td>\n",
       "      <td>Pave</td>\n",
       "      <td>NaN</td>\n",
       "      <td>IR1</td>\n",
       "      <td>Lvl</td>\n",
       "      <td>AllPub</td>\n",
       "      <td>Corner</td>\n",
       "      <td>...</td>\n",
       "      <td>0</td>\n",
       "      <td>NaN</td>\n",
       "      <td>NaN</td>\n",
       "      <td>NaN</td>\n",
       "      <td>0</td>\n",
       "      <td>2</td>\n",
       "      <td>2006</td>\n",
       "      <td>WD</td>\n",
       "      <td>Abnorml</td>\n",
       "      <td>140000</td>\n",
       "    </tr>\n",
       "    <tr>\n",
       "      <th>5</th>\n",
       "      <td>60</td>\n",
       "      <td>RL</td>\n",
       "      <td>84.0</td>\n",
       "      <td>14260</td>\n",
       "      <td>Pave</td>\n",
       "      <td>NaN</td>\n",
       "      <td>IR1</td>\n",
       "      <td>Lvl</td>\n",
       "      <td>AllPub</td>\n",
       "      <td>FR2</td>\n",
       "      <td>...</td>\n",
       "      <td>0</td>\n",
       "      <td>NaN</td>\n",
       "      <td>NaN</td>\n",
       "      <td>NaN</td>\n",
       "      <td>0</td>\n",
       "      <td>12</td>\n",
       "      <td>2008</td>\n",
       "      <td>WD</td>\n",
       "      <td>Normal</td>\n",
       "      <td>250000</td>\n",
       "    </tr>\n",
       "  </tbody>\n",
       "</table>\n",
       "<p>5 rows × 80 columns</p>\n",
       "</div>"
      ],
      "text/plain": [
       "    MSSubClass MSZoning  LotFrontage  LotArea Street Alley LotShape  \\\n",
       "Id                                                                    \n",
       "1           60       RL         65.0     8450   Pave   NaN      Reg   \n",
       "2           20       RL         80.0     9600   Pave   NaN      Reg   \n",
       "3           60       RL         68.0    11250   Pave   NaN      IR1   \n",
       "4           70       RL         60.0     9550   Pave   NaN      IR1   \n",
       "5           60       RL         84.0    14260   Pave   NaN      IR1   \n",
       "\n",
       "   LandContour Utilities LotConfig    ...     PoolArea PoolQC Fence  \\\n",
       "Id                                    ...                             \n",
       "1          Lvl    AllPub    Inside    ...            0    NaN   NaN   \n",
       "2          Lvl    AllPub       FR2    ...            0    NaN   NaN   \n",
       "3          Lvl    AllPub    Inside    ...            0    NaN   NaN   \n",
       "4          Lvl    AllPub    Corner    ...            0    NaN   NaN   \n",
       "5          Lvl    AllPub       FR2    ...            0    NaN   NaN   \n",
       "\n",
       "   MiscFeature MiscVal MoSold  YrSold  SaleType  SaleCondition  SalePrice  \n",
       "Id                                                                         \n",
       "1          NaN       0      2    2008        WD         Normal     208500  \n",
       "2          NaN       0      5    2007        WD         Normal     181500  \n",
       "3          NaN       0      9    2008        WD         Normal     223500  \n",
       "4          NaN       0      2    2006        WD        Abnorml     140000  \n",
       "5          NaN       0     12    2008        WD         Normal     250000  \n",
       "\n",
       "[5 rows x 80 columns]"
      ]
     },
     "execution_count": 2,
     "metadata": {},
     "output_type": "execute_result"
    }
   ],
   "source": [
    "# Read in the data\n",
    "train = pd.read_csv(\"train.csv\", index_col = 0)\n",
    "test = pd.read_csv(\"test.csv\", index_col = 0)\n",
    "\n",
    "train.head()"
   ]
  },
  {
   "cell_type": "code",
   "execution_count": 3,
   "metadata": {
    "collapsed": false
   },
   "outputs": [
    {
     "name": "stdout",
     "output_type": "stream",
     "text": [
      "(2919, 79)\n"
     ]
    }
   ],
   "source": [
    "# concatenate the data together\n",
    "all_data = pd.concat((train.loc[:,'MSSubClass':'SaleCondition'],test.loc[:,'MSSubClass':'SaleCondition']))\n",
    "print all_data.shape\n"
   ]
  },
  {
   "cell_type": "code",
   "execution_count": 4,
   "metadata": {
    "collapsed": true
   },
   "outputs": [],
   "source": [
    "# Because the target variable is skewed, take the log of it\n",
    "train[\"SalePrice\"] = np.log(train[\"SalePrice\"])"
   ]
  },
  {
   "cell_type": "code",
   "execution_count": 5,
   "metadata": {
    "collapsed": false
   },
   "outputs": [
    {
     "name": "stdout",
     "output_type": "stream",
     "text": [
      "Numeric Variables:\n",
      "LotFrontage has 18.0 % of NaN\n",
      "MasVnrArea has 1.0 % of NaN\n",
      "GarageYrBlt has 6.0 % of NaN\n",
      "\n",
      "Categorical Variables:\n",
      "Alley has 94.0 % of NaN\n",
      "MasVnrType has 1.0 % of NaN\n",
      "BsmtQual has 3.0 % of NaN\n",
      "BsmtCond has 3.0 % of NaN\n",
      "BsmtExposure has 3.0 % of NaN\n",
      "BsmtFinType1 has 3.0 % of NaN\n",
      "BsmtFinType2 has 3.0 % of NaN\n",
      "Electrical has 0.0 % of NaN\n",
      "FireplaceQu has 47.0 % of NaN\n",
      "GarageType has 6.0 % of NaN\n",
      "GarageFinish has 6.0 % of NaN\n",
      "GarageQual has 6.0 % of NaN\n",
      "GarageCond has 6.0 % of NaN\n",
      "PoolQC has 100.0 % of NaN\n",
      "Fence has 81.0 % of NaN\n",
      "MiscFeature has 96.0 % of NaN\n"
     ]
    }
   ],
   "source": [
    "# Check which columns have a lot of NA's in training data\n",
    "\n",
    "print \"Numeric Variables:\"\n",
    "list_feature_Nan = []\n",
    "for i in train.select_dtypes(exclude=['object']).columns:\n",
    "    if (train[i].isnull()).astype(int).sum() > 0:\n",
    "        print i, \"has\", round(((train[i].isnull()).astype(int).sum()/1460.0)*100), \"% of NaN\"\n",
    "        list_feature_Nan.append(i)\n",
    "print\n",
    "\n",
    "print \"Categorical Variables:\"\n",
    "for i in train.select_dtypes(include=['object']).columns:\n",
    "    if (train[i].isnull()).astype(int).sum() > 0:\n",
    "        print i, \"has\", round(((train[i].isnull()).astype(int).sum()/1460.0)*100), \"% of NaN\""
   ]
  },
  {
   "cell_type": "code",
   "execution_count": 6,
   "metadata": {
    "collapsed": false
   },
   "outputs": [],
   "source": [
    "# Define variable list for numeric variables and categorical variables for later preprocessing\n",
    "# Categorical variables\n",
    "non_num_cat_vars = [\"MSSubclass\"]\n",
    "cat_vars = train.select_dtypes(include=['object']).columns.tolist()\n",
    "cat_vars.append(non_num_cat_vars)\n",
    "\n",
    "# numerical variables\n",
    "num_vars = train.select_dtypes(exclude=['object']).columns.tolist()\n",
    "num_vars.remove(\"SalePrice\")"
   ]
  },
  {
   "cell_type": "code",
   "execution_count": 7,
   "metadata": {
    "collapsed": false
   },
   "outputs": [],
   "source": [
    "from scipy.stats import skew\n",
    "\n",
    "# Find all numeric variables that are skewed and transform them\n",
    "\n",
    "# Compute skewness\n",
    "skewed_vars = train[num_vars].apply(lambda x: skew(x.dropna()))\n",
    "skewed_vars = skewed_vars[skewed_vars > 0.75]\n",
    "skewed_vars = skewed_vars.index\n",
    "\n",
    "all_data[skewed_vars] = np.log1p(all_data[skewed_vars])"
   ]
  },
  {
   "cell_type": "code",
   "execution_count": 8,
   "metadata": {
    "collapsed": false
   },
   "outputs": [],
   "source": [
    "# from sklearn.preprocessing import scale\n",
    "\n",
    "# For numeric variables, Impute missing values with mean\n",
    "all_data[num_vars] = all_data[num_vars].fillna(all_data[num_vars].mean())\n",
    "\n",
    "# Standardize the numeric variables\n",
    "# all_data[num_vars] = all_data[num_vars].apply(lambda x: (x - np.mean(x)) / np.std(x)) <-- can do this with LinearRegression()"
   ]
  },
  {
   "cell_type": "code",
   "execution_count": 9,
   "metadata": {
    "collapsed": false
   },
   "outputs": [],
   "source": [
    "# Get dummy variables for all categorical variables\n",
    "all_data = pd.get_dummies(all_data)"
   ]
  },
  {
   "cell_type": "code",
   "execution_count": 10,
   "metadata": {
    "collapsed": true
   },
   "outputs": [],
   "source": [
    "# Set up data for modeling\n",
    "X_train = all_data[:train.shape[0]]\n",
    "X_test = all_data[train.shape[0]:]\n",
    "y = train.SalePrice"
   ]
  },
  {
   "cell_type": "code",
   "execution_count": 12,
   "metadata": {
    "collapsed": false
   },
   "outputs": [
    {
     "name": "stdout",
     "output_type": "stream",
     "text": [
      "[ 2.22494888  3.57858878  2.06443054  2.79379636  2.91061589]\n",
      "Avg RMSLE: 2.714476\n"
     ]
    }
   ],
   "source": [
    "# Test out generic LinearRegression to get baseline RMSLE\n",
    "from sklearn.linear_model import LinearRegression\n",
    "\n",
    "regr = LinearRegression(normalize = True)\n",
    "print compute_cv(regr)\n",
    "print \"Avg RMSLE: %f\" % compute_cv(regr).mean()"
   ]
  },
  {
   "cell_type": "code",
   "execution_count": 85,
   "metadata": {
    "collapsed": false
   },
   "outputs": [
    {
     "name": "stdout",
     "output_type": "stream",
     "text": [
      "Fitting 5 folds for each of 8 candidates, totalling 40 fits\n"
     ]
    },
    {
     "name": "stderr",
     "output_type": "stream",
     "text": [
      "[Parallel(n_jobs=-1)]: Done  40 out of  40 | elapsed:   12.4s finished\n"
     ]
    },
    {
     "data": {
      "text/plain": [
       "([mean: -0.01568, std: 0.00400, params: {'alpha': 0.001},\n",
       "  mean: -0.02385, std: 0.00435, params: {'alpha': 0.01},\n",
       "  mean: -0.03399, std: 0.00410, params: {'alpha': 0.05},\n",
       "  mean: -0.06946, std: 0.00592, params: {'alpha': 0.25},\n",
       "  mean: -0.07001, std: 0.00569, params: {'alpha': 0.5},\n",
       "  mean: -0.07204, std: 0.00557, params: {'alpha': 1},\n",
       "  mean: -0.08013, std: 0.00627, params: {'alpha': 2},\n",
       "  mean: -0.09304, std: 0.00655, params: {'alpha': 5}],\n",
       " {'alpha': 0.001},\n",
       " -0.015677777287533261)"
      ]
     },
     "execution_count": 85,
     "metadata": {},
     "output_type": "execute_result"
    }
   ],
   "source": [
    "# Test out Lasso Regression with different values of lambda\n",
    "from sklearn.linear_model import Lasso\n",
    "from sklearn.grid_search import GridSearchCV\n",
    "\n",
    "lasso_params = {\"alpha\":[0.001, 0.01, 0.05, 0.25, 0.5, 1, 2, 5]}\n",
    "lasso = Lasso()\n",
    "lasso_grid = GridSearchCV(lasso, lasso_params, scoring=\"mean_squared_error\", n_jobs=-1, cv=5, verbose=1)\n",
    "\n",
    "lasso_result = lasso_grid.fit(X_train,y)\n",
    "lasso_result.grid_scores_, lasso_result.best_params_, lasso_result.best_score_"
   ]
  },
  {
   "cell_type": "code",
   "execution_count": 86,
   "metadata": {
    "collapsed": false
   },
   "outputs": [
    {
     "ename": "ImportError",
     "evalue": "cannot import name RandomForestRegressor",
     "output_type": "error",
     "traceback": [
      "\u001b[0;31m---------------------------------------------------------------------------\u001b[0m",
      "\u001b[0;31mImportError\u001b[0m                               Traceback (most recent call last)",
      "\u001b[0;32m<ipython-input-86-68db4f353838>\u001b[0m in \u001b[0;36m<module>\u001b[0;34m()\u001b[0m\n\u001b[0;32m----> 1\u001b[0;31m \u001b[1;32mfrom\u001b[0m \u001b[0msklearn\u001b[0m\u001b[1;33m.\u001b[0m\u001b[0mtree\u001b[0m \u001b[1;32mimport\u001b[0m \u001b[0mRandomForestRegressor\u001b[0m\u001b[1;33m\u001b[0m\u001b[0m\n\u001b[0m",
      "\u001b[0;31mImportError\u001b[0m: cannot import name RandomForestRegressor"
     ]
    }
   ],
   "source": [
    "from sklearn.tree import RandomForestRegressor"
   ]
  },
  {
   "cell_type": "markdown",
   "metadata": {},
   "source": [
    "### Tune Gradient Boosting Regressor"
   ]
  },
  {
   "cell_type": "markdown",
   "metadata": {},
   "source": [
    "We will tune this GBRegressor in multiple steps:\n",
    "\n",
    "1. Number of trees\n",
    "2. Max_depth and Min_Samples_Split\n",
    "3. Min_Samples_leaf\n",
    "4. Max_features\n",
    "5. Subsample"
   ]
  },
  {
   "cell_type": "code",
   "execution_count": 19,
   "metadata": {
    "collapsed": false
   },
   "outputs": [],
   "source": [
    "from sklearn.ensemble import GradientBoostingRegressor"
   ]
  },
  {
   "cell_type": "code",
   "execution_count": 48,
   "metadata": {
    "collapsed": false
   },
   "outputs": [
    {
     "data": {
      "text/plain": [
       "([mean: -0.01668, std: 0.00277, params: {'n_estimators': 225},\n",
       "  mean: -0.01667, std: 0.00275, params: {'n_estimators': 235},\n",
       "  mean: -0.01668, std: 0.00275, params: {'n_estimators': 245},\n",
       "  mean: -0.01669, std: 0.00274, params: {'n_estimators': 255},\n",
       "  mean: -0.01663, std: 0.00270, params: {'n_estimators': 265},\n",
       "  mean: -0.01665, std: 0.00270, params: {'n_estimators': 275}],\n",
       " {'n_estimators': 265},\n",
       " -0.016627827817101534)"
      ]
     },
     "execution_count": 48,
     "metadata": {},
     "output_type": "execute_result"
    }
   ],
   "source": [
    "# Tune Session 1: Number of Estimators\n",
    "param_test1 = {'n_estimators':range(225,276,10)}\n",
    "gsearch1 = GridSearchCV(estimator = GradientBoostingRegressor(learning_rate=0.1, min_samples_split=10,min_samples_leaf=10,max_depth=8,max_features='sqrt',subsample=0.8,random_state=10), param_grid = param_test1, scoring='mean_squared_error',n_jobs=4,iid=False, cv=5)\n",
    "gsearch1.fit(X_train,y)\n",
    "gsearch1.grid_scores_, gsearch1.best_params_,gsearch1.best_score_"
   ]
  },
  {
   "cell_type": "code",
   "execution_count": 50,
   "metadata": {
    "collapsed": false
   },
   "outputs": [
    {
     "data": {
      "text/plain": [
       "([mean: -0.01692, std: 0.00340, params: {'min_samples_split': 10, 'max_depth': 6},\n",
       "  mean: -0.01650, std: 0.00348, params: {'min_samples_split': 20, 'max_depth': 6},\n",
       "  mean: -0.01564, std: 0.00287, params: {'min_samples_split': 30, 'max_depth': 6},\n",
       "  mean: -0.01618, std: 0.00303, params: {'min_samples_split': 40, 'max_depth': 6},\n",
       "  mean: -0.01585, std: 0.00266, params: {'min_samples_split': 50, 'max_depth': 6},\n",
       "  mean: -0.01733, std: 0.00273, params: {'min_samples_split': 10, 'max_depth': 8},\n",
       "  mean: -0.01683, std: 0.00300, params: {'min_samples_split': 20, 'max_depth': 8},\n",
       "  mean: -0.01658, std: 0.00365, params: {'min_samples_split': 30, 'max_depth': 8},\n",
       "  mean: -0.01646, std: 0.00272, params: {'min_samples_split': 40, 'max_depth': 8},\n",
       "  mean: -0.01599, std: 0.00283, params: {'min_samples_split': 50, 'max_depth': 8},\n",
       "  mean: -0.01863, std: 0.00373, params: {'min_samples_split': 10, 'max_depth': 10},\n",
       "  mean: -0.01767, std: 0.00342, params: {'min_samples_split': 20, 'max_depth': 10},\n",
       "  mean: -0.01690, std: 0.00331, params: {'min_samples_split': 30, 'max_depth': 10},\n",
       "  mean: -0.01623, std: 0.00357, params: {'min_samples_split': 40, 'max_depth': 10},\n",
       "  mean: -0.01640, std: 0.00306, params: {'min_samples_split': 50, 'max_depth': 10}],\n",
       " {'max_depth': 6, 'min_samples_split': 30},\n",
       " -0.015638627350153457)"
      ]
     },
     "execution_count": 50,
     "metadata": {},
     "output_type": "execute_result"
    }
   ],
   "source": [
    "# Tune Session 2: Max_Depth and Min_Sample_Split\n",
    "\n",
    "param_test2 = {'max_depth':range(6,12,2), 'min_samples_split':range(10,51,10)}\n",
    "gsearch2 = GridSearchCV(estimator = GradientBoostingRegressor(learning_rate=0.1, n_estimators=265, max_features='sqrt', subsample=0.8, random_state=10), param_grid = param_test2, scoring='mean_squared_error',n_jobs=4,iid=False, cv=5)\n",
    "gsearch2.fit(X_train, y)\n",
    "gsearch2.grid_scores_, gsearch2.best_params_, gsearch2.best_score_"
   ]
  },
  {
   "cell_type": "code",
   "execution_count": 53,
   "metadata": {
    "collapsed": false
   },
   "outputs": [
    {
     "data": {
      "text/plain": [
       "([mean: -0.01676, std: 0.00194, params: {'min_samples_leaf': 15},\n",
       "  mean: -0.01661, std: 0.00266, params: {'min_samples_leaf': 17},\n",
       "  mean: -0.01684, std: 0.00216, params: {'min_samples_leaf': 19},\n",
       "  mean: -0.01653, std: 0.00237, params: {'min_samples_leaf': 21},\n",
       "  mean: -0.01687, std: 0.00264, params: {'min_samples_leaf': 23},\n",
       "  mean: -0.01644, std: 0.00282, params: {'min_samples_leaf': 25}],\n",
       " {'min_samples_leaf': 25},\n",
       " -0.016438965319804998)"
      ]
     },
     "execution_count": 53,
     "metadata": {},
     "output_type": "execute_result"
    }
   ],
   "source": [
    "# Tune Session 3: min_sample_leaf\n",
    "\n",
    "param_test3 = {'min_samples_leaf':range(15,26,2)}\n",
    "gsearch3 = GridSearchCV(estimator = GradientBoostingRegressor(learning_rate=0.1, n_estimators=265,max_depth=6,max_features='sqrt', min_samples_split=30,subsample=0.8, random_state=10),param_grid = param_test3, scoring='mean_squared_error',n_jobs=4,iid=False, cv=5)\n",
    "gsearch3.fit(X_train, y)\n",
    "gsearch3.grid_scores_, gsearch3.best_params_, gsearch3.best_score_"
   ]
  },
  {
   "cell_type": "code",
   "execution_count": 59,
   "metadata": {
    "collapsed": false
   },
   "outputs": [
    {
     "data": {
      "text/plain": [
       "([mean: -0.01616, std: 0.00277, params: {'max_features': 35},\n",
       "  mean: -0.01611, std: 0.00259, params: {'max_features': 37},\n",
       "  mean: -0.01591, std: 0.00278, params: {'max_features': 39},\n",
       "  mean: -0.01578, std: 0.00266, params: {'max_features': 41},\n",
       "  mean: -0.01662, std: 0.00294, params: {'max_features': 43},\n",
       "  mean: -0.01644, std: 0.00295, params: {'max_features': 45}],\n",
       " {'max_features': 41},\n",
       " -0.015778962270248297)"
      ]
     },
     "execution_count": 59,
     "metadata": {},
     "output_type": "execute_result"
    }
   ],
   "source": [
    "# Tune Session 4: Max_features\n",
    "\n",
    "param_test4 = {'max_features':range(35,46,2)}\n",
    "gsearch4 = GridSearchCV(estimator = GradientBoostingRegressor(learning_rate=0.1, n_estimators=265,max_depth=6, min_samples_split=30, min_samples_leaf=25, subsample=0.8, random_state=10),param_grid = param_test4, scoring='mean_squared_error',n_jobs=4,iid=False, cv=5)\n",
    "gsearch4.fit(X_train, y)\n",
    "gsearch4.grid_scores_, gsearch4.best_params_, gsearch4.best_score_"
   ]
  },
  {
   "cell_type": "code",
   "execution_count": 60,
   "metadata": {
    "collapsed": false
   },
   "outputs": [
    {
     "data": {
      "text/plain": [
       "([mean: -0.01690, std: 0.00236, params: {'subsample': 0.6},\n",
       "  mean: -0.01653, std: 0.00229, params: {'subsample': 0.7},\n",
       "  mean: -0.01624, std: 0.00195, params: {'subsample': 0.75},\n",
       "  mean: -0.01578, std: 0.00266, params: {'subsample': 0.8},\n",
       "  mean: -0.01626, std: 0.00205, params: {'subsample': 0.85},\n",
       "  mean: -0.01605, std: 0.00265, params: {'subsample': 0.9}],\n",
       " {'subsample': 0.8},\n",
       " -0.015778962270248297)"
      ]
     },
     "execution_count": 60,
     "metadata": {},
     "output_type": "execute_result"
    }
   ],
   "source": [
    "# Tune Session 5: Subsample\n",
    "\n",
    "param_test5 = {'subsample':[0.6,0.7,0.75,0.8,0.85,0.9]}\n",
    "gsearch5 = GridSearchCV(estimator = GradientBoostingRegressor(learning_rate=0.1, n_estimators=265,max_depth=6,min_samples_split=30, min_samples_leaf=25, subsample=0.8, random_state=10,max_features=41),param_grid = param_test5, scoring='mean_squared_error',n_jobs=4,iid=False, cv=5)\n",
    "gsearch5.fit(X_train, y)\n",
    "gsearch5.grid_scores_, gsearch5.best_params_, gsearch5.best_score_"
   ]
  },
  {
   "cell_type": "markdown",
   "metadata": {},
   "source": [
    "Optimal Tuning Variables:\n",
    "\n",
    "Max Depth: 6\n",
    "Min_Sample_Split: 30\n",
    "Min_Sample_Leaf: 25\n",
    "Max_Features: 41\n",
    "Subsample: 0.8"
   ]
  },
  {
   "cell_type": "markdown",
   "metadata": {},
   "source": [
    "### Tune Learning Rate"
   ]
  },
  {
   "cell_type": "code",
   "execution_count": 61,
   "metadata": {
    "collapsed": true
   },
   "outputs": [],
   "source": [
    "from sklearn.cross_validation import cross_val_score"
   ]
  },
  {
   "cell_type": "code",
   "execution_count": 77,
   "metadata": {
    "collapsed": false
   },
   "outputs": [
    {
     "name": "stdout",
     "output_type": "stream",
     "text": [
      "[-0.01261719 -0.01762641 -0.01774777 -0.01274797 -0.01522808]\n",
      "-0.0151934836358\n"
     ]
    }
   ],
   "source": [
    "# Half the learning rate, double the trees\n",
    "\n",
    "gbm_tuned_1 = GradientBoostingRegressor(learning_rate=0.05, n_estimators=500,max_depth=6, min_samples_split=30, min_samples_leaf=25, subsample=0.8, random_state=10, max_features=41,warm_start=True)\n",
    "\n",
    "gbm_cv_1 = cross_val_score(estimator=gbm_tuned_1,X = X_train, y=y, scoring=\"mean_squared_error\", cv = 5)\n",
    "print gbm_cv_1\n",
    "print gbm_cv_1.mean()"
   ]
  },
  {
   "cell_type": "code",
   "execution_count": 66,
   "metadata": {
    "collapsed": false
   },
   "outputs": [
    {
     "name": "stdout",
     "output_type": "stream",
     "text": [
      "[-0.01187439 -0.01920822 -0.01760021 -0.0128868  -0.01651534]\n",
      "-0.0156169944846\n"
     ]
    }
   ],
   "source": [
    "# Learning Rate = 0.01, n_estimators = 750\n",
    "\n",
    "gbm_tuned_2 = GradientBoostingRegressor(learning_rate=0.01, n_estimators=750,max_depth=6, min_samples_split=30, min_samples_leaf=25, subsample=0.8, random_state=10, max_features=41,warm_start=True)\n",
    "\n",
    "gbm_cv_2 = cross_val_score(estimator=gbm_tuned_2,X = X_train, y=y, scoring=\"mean_squared_error\", cv = 5)\n",
    "print gbm_cv_2\n",
    "print gbm_cv_2.mean()"
   ]
  },
  {
   "cell_type": "markdown",
   "metadata": {},
   "source": [
    "The SD of the cv scores seems very high, so this is probably overfit."
   ]
  },
  {
   "cell_type": "code",
   "execution_count": 69,
   "metadata": {
    "collapsed": false
   },
   "outputs": [
    {
     "name": "stdout",
     "output_type": "stream",
     "text": [
      "[-0.0420404  -0.05652644 -0.05588453 -0.04457234 -0.04701671]\n",
      "-0.0492080833945\n"
     ]
    }
   ],
   "source": [
    "# Try a lower learning rate\n",
    "\n",
    "gbm_tuned_3 = GradientBoostingRegressor(learning_rate=0.001, n_estimators=1000,max_depth=6, min_samples_split=30, min_samples_leaf=25, subsample=0.8, random_state=10, max_features=41,warm_start=True)\n",
    "\n",
    "gbm_cv_3 = cross_val_score(estimator=gbm_tuned_3,X = X_train, y=y, scoring=\"mean_squared_error\", cv = 5)\n",
    "print gbm_cv_3\n",
    "print gbm_cv_3.mean()"
   ]
  },
  {
   "cell_type": "markdown",
   "metadata": {},
   "source": [
    "CV goes way down so this is definitely overfitting."
   ]
  },
  {
   "cell_type": "code",
   "execution_count": 78,
   "metadata": {
    "collapsed": false
   },
   "outputs": [],
   "source": [
    "# Use gbm_tuned_1 for submission\n",
    "\n",
    "gbm_tuned_1.fit(X_train, y)\n",
    "preds = np.expm1(gbm_tuned_1.predict(X_test))\n",
    "submission_gbm1 = pd.DataFrame(data = {'Id':X_test.index.values,'SalePrice':preds})"
   ]
  },
  {
   "cell_type": "code",
   "execution_count": 80,
   "metadata": {
    "collapsed": false
   },
   "outputs": [],
   "source": [
    "# Write to csv\n",
    "submission_gbm1.to_csv(\"submission_gbm1.csv\", index = False)"
   ]
  },
  {
   "cell_type": "markdown",
   "metadata": {},
   "source": [
    "Scored .1255 on public leaderboard"
   ]
  },
  {
   "cell_type": "code",
   "execution_count": 84,
   "metadata": {
    "collapsed": false
   },
   "outputs": [
    {
     "data": {
      "image/png": "[encoded data removed]",
      "text/plain": [
       "<matplotlib.figure.Figure at 0x119227f0>"
      ]
     },
     "metadata": {},
     "output_type": "display_data"
    }
   ],
   "source": [
    "feat_imp = pd.Series(gbm_tuned_1.feature_importances_, X_train.columns).sort_values(ascending=False)\n",
    "feat_imp[:30].plot(kind='bar', title='Feature Importances')\n",
    "plt.ylabel('Feature Importance Score')\n",
    "plt.show()"
   ]
  },
  {
   "cell_type": "code",
   "execution_count": null,
   "metadata": {
    "collapsed": true
   },
   "outputs": [],
   "source": []
  }
 ],
 "metadata": {
  "anaconda-cloud": {},
  "kernelspec": {
   "display_name": "Python [default]",
   "language": "python",
   "name": "python2"
  },
  "language_info": {
   "codemirror_mode": {
    "name": "ipython",
    "version": 2
   },
   "file_extension": ".py",
   "mimetype": "text/x-python",
   "name": "python",
   "nbconvert_exporter": "python",
   "pygments_lexer": "ipython2",
   "version": "2.7.12"
  }
 },
 "nbformat": 4,
 "nbformat_minor": 0
}
