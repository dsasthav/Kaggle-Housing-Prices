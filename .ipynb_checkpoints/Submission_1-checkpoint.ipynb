{
 "cells": [
  {
   "cell_type": "markdown",
   "metadata": {},
   "source": [
    "### Overview"
   ]
  },
  {
   "cell_type": "markdown",
   "metadata": {},
   "source": [
    "This first pass will include standard linear regression models (regular, lasso, ridge, and elasticnet). However, we will keep the preprocessing steps simple by just transforming skewed variables. Whichever model has the lowest RMSE will be submitted as a first pass.\n",
    "\n",
    "Further iterations will include more advanced variable selection and feature engineering."
   ]
  },
  {
   "cell_type": "markdown",
   "metadata": {},
   "source": [
    "### Load Data and Important Modules"
   ]
  },
  {
   "cell_type": "code",
   "execution_count": 1,
   "metadata": {
    "collapsed": true
   },
   "outputs": [],
   "source": [
    "import pandas as pd\n",
    "import numpy as np\n",
    "import matplotlib.pyplot as plt"
   ]
  },
  {
   "cell_type": "code",
   "execution_count": 2,
   "metadata": {
    "collapsed": false
   },
   "outputs": [
    {
     "data": {
      "text/html": [
       "<div>\n",
       "<table border=\"1\" class=\"dataframe\">\n",
       "  <thead>\n",
       "    <tr style=\"text-align: right;\">\n",
       "      <th></th>\n",
       "      <th>MSSubClass</th>\n",
       "      <th>MSZoning</th>\n",
       "      <th>LotFrontage</th>\n",
       "      <th>LotArea</th>\n",
       "      <th>Street</th>\n",
       "      <th>Alley</th>\n",
       "      <th>LotShape</th>\n",
       "      <th>LandContour</th>\n",
       "      <th>Utilities</th>\n",
       "      <th>LotConfig</th>\n",
       "      <th>...</th>\n",
       "      <th>PoolArea</th>\n",
       "      <th>PoolQC</th>\n",
       "      <th>Fence</th>\n",
       "      <th>MiscFeature</th>\n",
       "      <th>MiscVal</th>\n",
       "      <th>MoSold</th>\n",
       "      <th>YrSold</th>\n",
       "      <th>SaleType</th>\n",
       "      <th>SaleCondition</th>\n",
       "      <th>SalePrice</th>\n",
       "    </tr>\n",
       "    <tr>\n",
       "      <th>Id</th>\n",
       "      <th></th>\n",
       "      <th></th>\n",
       "      <th></th>\n",
       "      <th></th>\n",
       "      <th></th>\n",
       "      <th></th>\n",
       "      <th></th>\n",
       "      <th></th>\n",
       "      <th></th>\n",
       "      <th></th>\n",
       "      <th></th>\n",
       "      <th></th>\n",
       "      <th></th>\n",
       "      <th></th>\n",
       "      <th></th>\n",
       "      <th></th>\n",
       "      <th></th>\n",
       "      <th></th>\n",
       "      <th></th>\n",
       "      <th></th>\n",
       "      <th></th>\n",
       "    </tr>\n",
       "  </thead>\n",
       "  <tbody>\n",
       "    <tr>\n",
       "      <th>1</th>\n",
       "      <td>60</td>\n",
       "      <td>RL</td>\n",
       "      <td>65.0</td>\n",
       "      <td>8450</td>\n",
       "      <td>Pave</td>\n",
       "      <td>NaN</td>\n",
       "      <td>Reg</td>\n",
       "      <td>Lvl</td>\n",
       "      <td>AllPub</td>\n",
       "      <td>Inside</td>\n",
       "      <td>...</td>\n",
       "      <td>0</td>\n",
       "      <td>NaN</td>\n",
       "      <td>NaN</td>\n",
       "      <td>NaN</td>\n",
       "      <td>0</td>\n",
       "      <td>2</td>\n",
       "      <td>2008</td>\n",
       "      <td>WD</td>\n",
       "      <td>Normal</td>\n",
       "      <td>208500</td>\n",
       "    </tr>\n",
       "    <tr>\n",
       "      <th>2</th>\n",
       "      <td>20</td>\n",
       "      <td>RL</td>\n",
       "      <td>80.0</td>\n",
       "      <td>9600</td>\n",
       "      <td>Pave</td>\n",
       "      <td>NaN</td>\n",
       "      <td>Reg</td>\n",
       "      <td>Lvl</td>\n",
       "      <td>AllPub</td>\n",
       "      <td>FR2</td>\n",
       "      <td>...</td>\n",
       "      <td>0</td>\n",
       "      <td>NaN</td>\n",
       "      <td>NaN</td>\n",
       "      <td>NaN</td>\n",
       "      <td>0</td>\n",
       "      <td>5</td>\n",
       "      <td>2007</td>\n",
       "      <td>WD</td>\n",
       "      <td>Normal</td>\n",
       "      <td>181500</td>\n",
       "    </tr>\n",
       "    <tr>\n",
       "      <th>3</th>\n",
       "      <td>60</td>\n",
       "      <td>RL</td>\n",
       "      <td>68.0</td>\n",
       "      <td>11250</td>\n",
       "      <td>Pave</td>\n",
       "      <td>NaN</td>\n",
       "      <td>IR1</td>\n",
       "      <td>Lvl</td>\n",
       "      <td>AllPub</td>\n",
       "      <td>Inside</td>\n",
       "      <td>...</td>\n",
       "      <td>0</td>\n",
       "      <td>NaN</td>\n",
       "      <td>NaN</td>\n",
       "      <td>NaN</td>\n",
       "      <td>0</td>\n",
       "      <td>9</td>\n",
       "      <td>2008</td>\n",
       "      <td>WD</td>\n",
       "      <td>Normal</td>\n",
       "      <td>223500</td>\n",
       "    </tr>\n",
       "    <tr>\n",
       "      <th>4</th>\n",
       "      <td>70</td>\n",
       "      <td>RL</td>\n",
       "      <td>60.0</td>\n",
       "      <td>9550</td>\n",
       "      <td>Pave</td>\n",
       "      <td>NaN</td>\n",
       "      <td>IR1</td>\n",
       "      <td>Lvl</td>\n",
       "      <td>AllPub</td>\n",
       "      <td>Corner</td>\n",
       "      <td>...</td>\n",
       "      <td>0</td>\n",
       "      <td>NaN</td>\n",
       "      <td>NaN</td>\n",
       "      <td>NaN</td>\n",
       "      <td>0</td>\n",
       "      <td>2</td>\n",
       "      <td>2006</td>\n",
       "      <td>WD</td>\n",
       "      <td>Abnorml</td>\n",
       "      <td>140000</td>\n",
       "    </tr>\n",
       "    <tr>\n",
       "      <th>5</th>\n",
       "      <td>60</td>\n",
       "      <td>RL</td>\n",
       "      <td>84.0</td>\n",
       "      <td>14260</td>\n",
       "      <td>Pave</td>\n",
       "      <td>NaN</td>\n",
       "      <td>IR1</td>\n",
       "      <td>Lvl</td>\n",
       "      <td>AllPub</td>\n",
       "      <td>FR2</td>\n",
       "      <td>...</td>\n",
       "      <td>0</td>\n",
       "      <td>NaN</td>\n",
       "      <td>NaN</td>\n",
       "      <td>NaN</td>\n",
       "      <td>0</td>\n",
       "      <td>12</td>\n",
       "      <td>2008</td>\n",
       "      <td>WD</td>\n",
       "      <td>Normal</td>\n",
       "      <td>250000</td>\n",
       "    </tr>\n",
       "  </tbody>\n",
       "</table>\n",
       "<p>5 rows × 80 columns</p>\n",
       "</div>"
      ],
      "text/plain": [
       "    MSSubClass MSZoning  LotFrontage  LotArea Street Alley LotShape  \\\n",
       "Id                                                                    \n",
       "1           60       RL         65.0     8450   Pave   NaN      Reg   \n",
       "2           20       RL         80.0     9600   Pave   NaN      Reg   \n",
       "3           60       RL         68.0    11250   Pave   NaN      IR1   \n",
       "4           70       RL         60.0     9550   Pave   NaN      IR1   \n",
       "5           60       RL         84.0    14260   Pave   NaN      IR1   \n",
       "\n",
       "   LandContour Utilities LotConfig    ...     PoolArea PoolQC Fence  \\\n",
       "Id                                    ...                             \n",
       "1          Lvl    AllPub    Inside    ...            0    NaN   NaN   \n",
       "2          Lvl    AllPub       FR2    ...            0    NaN   NaN   \n",
       "3          Lvl    AllPub    Inside    ...            0    NaN   NaN   \n",
       "4          Lvl    AllPub    Corner    ...            0    NaN   NaN   \n",
       "5          Lvl    AllPub       FR2    ...            0    NaN   NaN   \n",
       "\n",
       "   MiscFeature MiscVal MoSold  YrSold  SaleType  SaleCondition  SalePrice  \n",
       "Id                                                                         \n",
       "1          NaN       0      2    2008        WD         Normal     208500  \n",
       "2          NaN       0      5    2007        WD         Normal     181500  \n",
       "3          NaN       0      9    2008        WD         Normal     223500  \n",
       "4          NaN       0      2    2006        WD        Abnorml     140000  \n",
       "5          NaN       0     12    2008        WD         Normal     250000  \n",
       "\n",
       "[5 rows x 80 columns]"
      ]
     },
     "execution_count": 2,
     "metadata": {},
     "output_type": "execute_result"
    }
   ],
   "source": [
    "# Read in the data\n",
    "train = pd.read_csv(\"train.csv\", index_col = 0)\n",
    "test = pd.read_csv(\"test.csv\", index_col = 0)\n",
    "\n",
    "train.head()"
   ]
  },
  {
   "cell_type": "code",
   "execution_count": 3,
   "metadata": {
    "collapsed": false
   },
   "outputs": [
    {
     "name": "stdout",
     "output_type": "stream",
     "text": [
      "(2919, 79)\n"
     ]
    }
   ],
   "source": [
    "# concatenate the data together\n",
    "all_data = pd.concat((train.loc[:,'MSSubClass':'SaleCondition'],test.loc[:,'MSSubClass':'SaleCondition']))\n",
    "print all_data.shape\n"
   ]
  },
  {
   "cell_type": "code",
   "execution_count": 4,
   "metadata": {
    "collapsed": true
   },
   "outputs": [],
   "source": [
    "# Because the target variable is skewed, take the log of it\n",
    "train[\"SalePrice\"] = np.log(train[\"SalePrice\"])"
   ]
  },
  {
   "cell_type": "code",
   "execution_count": 5,
   "metadata": {
    "collapsed": false
   },
   "outputs": [
    {
     "name": "stdout",
     "output_type": "stream",
     "text": [
      "Numeric Variables:\n",
      "LotFrontage has 18.0 % of NaN\n",
      "MasVnrArea has 1.0 % of NaN\n",
      "GarageYrBlt has 6.0 % of NaN\n",
      "\n",
      "Categorical Variables:\n",
      "Alley has 94.0 % of NaN\n",
      "MasVnrType has 1.0 % of NaN\n",
      "BsmtQual has 3.0 % of NaN\n",
      "BsmtCond has 3.0 % of NaN\n",
      "BsmtExposure has 3.0 % of NaN\n",
      "BsmtFinType1 has 3.0 % of NaN\n",
      "BsmtFinType2 has 3.0 % of NaN\n",
      "Electrical has 0.0 % of NaN\n",
      "FireplaceQu has 47.0 % of NaN\n",
      "GarageType has 6.0 % of NaN\n",
      "GarageFinish has 6.0 % of NaN\n",
      "GarageQual has 6.0 % of NaN\n",
      "GarageCond has 6.0 % of NaN\n",
      "PoolQC has 100.0 % of NaN\n",
      "Fence has 81.0 % of NaN\n",
      "MiscFeature has 96.0 % of NaN\n"
     ]
    }
   ],
   "source": [
    "# Check which columns have a lot of NA's in training data\n",
    "\n",
    "print \"Numeric Variables:\"\n",
    "list_feature_Nan = []\n",
    "for i in train.select_dtypes(exclude=['object']).columns:\n",
    "    if (train[i].isnull()).astype(int).sum() > 0:\n",
    "        print i, \"has\", round(((train[i].isnull()).astype(int).sum()/1460.0)*100), \"% of NaN\"\n",
    "        list_feature_Nan.append(i)\n",
    "print\n",
    "\n",
    "print \"Categorical Variables:\"\n",
    "for i in train.select_dtypes(include=['object']).columns:\n",
    "    if (train[i].isnull()).astype(int).sum() > 0:\n",
    "        print i, \"has\", round(((train[i].isnull()).astype(int).sum()/1460.0)*100), \"% of NaN\""
   ]
  },
  {
   "cell_type": "code",
   "execution_count": 6,
   "metadata": {
    "collapsed": false
   },
   "outputs": [],
   "source": [
    "# Define variable list for numeric variables and categorical variables for later preprocessing\n",
    "# Categorical variables\n",
    "non_num_cat_vars = [\"MSSubclass\"]\n",
    "cat_vars = train.select_dtypes(include=['object']).columns.tolist()\n",
    "cat_vars.append(non_num_cat_vars)\n",
    "\n",
    "# numerical variables\n",
    "num_vars = train.select_dtypes(exclude=['object']).columns.tolist()\n",
    "num_vars.remove(\"SalePrice\")"
   ]
  },
  {
   "cell_type": "code",
   "execution_count": 7,
   "metadata": {
    "collapsed": false
   },
   "outputs": [],
   "source": [
    "from scipy.stats import skew\n",
    "\n",
    "# Find all numeric variables that are skewed and transform them\n",
    "\n",
    "# Compute skewness\n",
    "skewed_vars = train[num_vars].apply(lambda x: skew(x.dropna()))\n",
    "skewed_vars = skewed_vars[skewed_vars > 0.75]\n",
    "skewed_vars = skewed_vars.index\n",
    "\n",
    "all_data[skewed_vars] = np.log1p(all_data[skewed_vars])"
   ]
  },
  {
   "cell_type": "code",
   "execution_count": 8,
   "metadata": {
    "collapsed": false
   },
   "outputs": [],
   "source": [
    "# from sklearn.preprocessing import scale\n",
    "\n",
    "# For numeric variables, Impute missing values with mean\n",
    "all_data[num_vars] = all_data[num_vars].fillna(all_data[num_vars].mean())\n",
    "\n",
    "# Standardize the numeric variables\n",
    "# all_data[num_vars] = all_data[num_vars].apply(lambda x: (x - np.mean(x)) / np.std(x)) <-- can do this with LinearRegression()"
   ]
  },
  {
   "cell_type": "code",
   "execution_count": 9,
   "metadata": {
    "collapsed": false
   },
   "outputs": [],
   "source": [
    "# Get dummy variables for all categorical variables\n",
    "all_data = pd.get_dummies(all_data)"
   ]
  },
  {
   "cell_type": "code",
   "execution_count": 10,
   "metadata": {
    "collapsed": true
   },
   "outputs": [],
   "source": [
    "# Set up data for modeling\n",
    "X_train = all_data[:train.shape[0]]\n",
    "X_test = all_data[train.shape[0]:]\n",
    "y = train.SalePrice"
   ]
  },
  {
   "cell_type": "code",
   "execution_count": 11,
   "metadata": {
    "collapsed": true
   },
   "outputs": [],
   "source": [
    "# Define a function for RMSLE (see Kaggle's formula)\n",
    "from sklearn.metrics import make_scorer\n",
    "from sklearn.cross_validation import cross_val_score\n",
    "\n",
    "def rmsle(y, y_pred):\n",
    "    assert len(y) == len(y_pred)\n",
    "    return np.sqrt((((np.log1p(y)-np.log1p(y_pred))**2).sum())/(1.0*len(y)))\n",
    "\n",
    "def compute_cv(model, cv = 5):\n",
    "    scorer = make_scorer(rmsle)\n",
    "    return cross_val_score(model, X_train, y, cv = cv, scoring = scorer)"
   ]
  },
  {
   "cell_type": "code",
   "execution_count": 20,
   "metadata": {
    "collapsed": false
   },
   "outputs": [
    {
     "name": "stdout",
     "output_type": "stream",
     "text": [
      "[ 3.52271517  2.21184247  1.58846354  3.89919602  4.08725338]\n",
      "Avg RMSLE: 3.061894\n"
     ]
    }
   ],
   "source": [
    "# Test out generic LinearRegression to get baseline RMSLE\n",
    "from sklearn.linear_model import LinearRegression\n",
    "\n",
    "regr = LinearRegression(normalize = True)\n",
    "print compute_cv(regr)\n",
    "print \"Avg RMSLE: %f\" % compute_cv(regr).mean()"
   ]
  },
  {
   "cell_type": "code",
   "execution_count": 21,
   "metadata": {
    "collapsed": true
   },
   "outputs": [],
   "source": [
    "# Create function to get predictions and output submission\n",
    "\n",
    "def create_submission(model, fileName):\n",
    "    preds = np.expm1(model.predict(X_test))\n",
    "    solution = pd.DataFrame({\"id\":X_test.index, \"SalePrice\":preds})\n",
    "    solution.to_csv(fileName, index = False)"
   ]
  },
  {
   "cell_type": "code",
   "execution_count": 22,
   "metadata": {
    "collapsed": false
   },
   "outputs": [],
   "source": [
    "regr.fit(X_train, y)\n",
    "create_submission(regr, \"Submission_LinearRegressionNormalize.csv\")"
   ]
  },
  {
   "cell_type": "code",
   "execution_count": 24,
   "metadata": {
    "collapsed": false
   },
   "outputs": [
    {
     "name": "stdout",
     "output_type": "stream",
     "text": [
      "0.001    0.009564\n",
      "0.010    0.011856\n",
      "0.050    0.014182\n",
      "0.250    0.020233\n",
      "0.500    0.020314\n",
      "1.000    0.020604\n",
      "2.000    0.021729\n",
      "5.000    0.023410\n",
      "dtype: float64\n"
     ]
    },
    {
     "data": {
      "image/png": "[encoded data removed]",
      "text/plain": [
       "<matplotlib.figure.Figure at 0xa4ce358>"
      ]
     },
     "metadata": {},
     "output_type": "display_data"
    }
   ],
   "source": [
    "# Test out Lasso Regression with different values of lambda\n",
    "from sklearn.linear_model import Lasso\n",
    "alphas = [0.001, 0.01, 0.05, 0.25, 0.5, 1, 2, 5]\n",
    "\n",
    "lasso_cv = [compute_cv(Lasso(alpha = alpha)).mean() for alpha in alphas]\n",
    "\n",
    "lasso_cv = pd.Series(lasso_cv, index = alphas)\n",
    "print lasso_cv\n",
    "# Plot results\n",
    "plt.figure()\n",
    "lasso_cv.plot()\n",
    "plt.title(\"Lasso Regression RMSLE Minimum: %2.4f\" % lasso_cv.min())\n",
    "plt.xlabel(\"alpha\")\n",
    "plt.ylabel(\"RMSLE\")\n",
    "plt.show()"
   ]
  },
  {
   "cell_type": "code",
   "execution_count": 31,
   "metadata": {
    "collapsed": false
   },
   "outputs": [],
   "source": [
    "lasso = Lasso(alpha = 0.5)\n",
    "lasso.fit(X_train, y)\n",
    "preds = np.expm1(lasso.predict(X_test))\n",
    "solution = pd.DataFrame({\"id\":test.index, \"SalePrice\":preds})\n",
    "solution.to_csv(\"Submission_lasso0.5.csv\", index = False)"
   ]
  },
  {
   "cell_type": "code",
   "execution_count": 29,
   "metadata": {
    "collapsed": false
   },
   "outputs": [
    {
     "data": {
      "image/png": "[encoded data removed]",
      "text/plain": [
       "<matplotlib.figure.Figure at 0xa3c00f0>"
      ]
     },
     "metadata": {},
     "output_type": "display_data"
    },
    {
     "name": "stdout",
     "output_type": "stream",
     "text": [
      "0.001    0.009564\n",
      "0.010    0.011856\n",
      "0.050    0.014182\n",
      "0.250    0.020233\n",
      "0.500    0.020314\n",
      "1.000    0.020604\n",
      "2.000    0.021729\n",
      "5.000    0.023410\n",
      "dtype: float64\n"
     ]
    }
   ],
   "source": [
    "# Test out Ridge Regression with different values of lambda\n",
    "\n",
    "from sklearn.linear_model import Ridge\n",
    "alphas = [0.001, 0.01, 0.05, 0.25, 0.5, 1, 2, 5]\n",
    "\n",
    "ridge_cv = [compute_cv(Ridge(alpha = alpha)).mean() for alpha in alphas]\n",
    "\n",
    "ridge_cv = pd.Series(lasso_cv, index = alphas)\n",
    "\n",
    "# Plot results\n",
    "plt.figure()\n",
    "lasso_cv.plot()\n",
    "plt.title(\"Ridge Regression RMSLE Minimum: %2.4f\" % ridge_cv.min())\n",
    "plt.xlabel(\"alpha\")\n",
    "plt.ylabel(\"RMSLE\")\n",
    "plt.show()\n",
    "# Find optimal lambda\n",
    "# Plot results\n",
    "\n",
    "print ridge_cv"
   ]
  },
  {
   "cell_type": "code",
   "execution_count": 30,
   "metadata": {
    "collapsed": true
   },
   "outputs": [],
   "source": [
    "ridge = Ridge(alpha = 0.001)\n",
    "ridge.fit(X_train, y)\n",
    "preds = np.expm1(ridge.predict(X_test))\n",
    "solution = pd.DataFrame({\"id\":test.index, \"SalePrice\":preds})\n",
    "solution.to_csv(\"Submission_ridge.csv\", index = False)"
   ]
  },
  {
   "cell_type": "code",
   "execution_count": null,
   "metadata": {
    "collapsed": true
   },
   "outputs": [],
   "source": [
    "# Test out Elastic Net with different values of alpha\n",
    "\n",
    "# Find optimal alpha\n",
    "\n",
    "# Plot results"
   ]
  }
 ],
 "metadata": {
  "kernelspec": {
   "display_name": "Python 2",
   "language": "python",
   "name": "python2"
  },
  "language_info": {
   "codemirror_mode": {
    "name": "ipython",
    "version": 2
   },
   "file_extension": ".py",
   "mimetype": "text/x-python",
   "name": "python",
   "nbconvert_exporter": "python",
   "pygments_lexer": "ipython2",
   "version": "2.7.11"
  }
 },
 "nbformat": 4,
 "nbformat_minor": 0
}
