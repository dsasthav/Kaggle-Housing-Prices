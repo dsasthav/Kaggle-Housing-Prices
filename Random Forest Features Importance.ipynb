{
 "cells": [
  {
   "cell_type": "code",
   "execution_count": 134,
   "metadata": {
    "collapsed": true
   },
   "outputs": [],
   "source": [
    "import numpy as np\n",
    "import pandas as pd\n",
    "import os\n",
    "from sklearn.preprocessing import Imputer\n",
    "from sklearn.ensemble import RandomForestRegressor\n",
    "os.chdir(\"/Users/yuchen/Desktop\")"
   ]
  },
  {
   "cell_type": "code",
   "execution_count": 135,
   "metadata": {
    "collapsed": false
   },
   "outputs": [],
   "source": [
    "df = pd.read_csv(\"training.csv\") #import training data set\n",
    "df =pd.get_dummies(df) #create dummy variables for categoricals\n",
    "Y = df.loc[:,'SalePrice'].values\n",
    "df.drop(['Id', 'SalePrice'], axis=1, inplace=True) # drop first column of index IDs and Y column after dummies created"
   ]
  },
  {
   "cell_type": "code",
   "execution_count": 136,
   "metadata": {
    "collapsed": false
   },
   "outputs": [
    {
     "data": {
      "text/plain": [
       "Index([u'MSSubClass', u'LotFrontage', u'LotArea', u'OverallQual',\n",
       "       u'OverallCond', u'YearBuilt', u'YearRemodAdd', u'MasVnrArea',\n",
       "       u'BsmtFinSF1', u'BsmtFinSF2',\n",
       "       ...\n",
       "       u'SaleType_ConLw', u'SaleType_New', u'SaleType_Oth', u'SaleType_WD',\n",
       "       u'SaleCondition_Abnorml', u'SaleCondition_AdjLand',\n",
       "       u'SaleCondition_Alloca', u'SaleCondition_Family',\n",
       "       u'SaleCondition_Normal', u'SaleCondition_Partial'],\n",
       "      dtype='object', length=288)"
      ]
     },
     "execution_count": 136,
     "metadata": {},
     "output_type": "execute_result"
    }
   ],
   "source": [
    "columnNames = df.columns #extract column names\n",
    "columnNames # save column names as an array, will  use late for feature importance"
   ]
  },
  {
   "cell_type": "code",
   "execution_count": 137,
   "metadata": {
    "collapsed": false
   },
   "outputs": [
    {
     "name": "stdout",
     "output_type": "stream",
     "text": [
      "[[  6.00000000e+01   6.50000000e+01   8.45000000e+03 ...,   0.00000000e+00\n",
      "    1.00000000e+00   0.00000000e+00]\n",
      " [  2.00000000e+01   8.00000000e+01   9.60000000e+03 ...,   0.00000000e+00\n",
      "    1.00000000e+00   0.00000000e+00]\n",
      " [  6.00000000e+01   6.80000000e+01   1.12500000e+04 ...,   0.00000000e+00\n",
      "    1.00000000e+00   0.00000000e+00]\n",
      " ..., \n",
      " [  7.00000000e+01   6.60000000e+01   9.04200000e+03 ...,   0.00000000e+00\n",
      "    1.00000000e+00   0.00000000e+00]\n",
      " [  2.00000000e+01   6.80000000e+01   9.71700000e+03 ...,   0.00000000e+00\n",
      "    1.00000000e+00   0.00000000e+00]\n",
      " [  2.00000000e+01   7.50000000e+01   9.93700000e+03 ...,   0.00000000e+00\n",
      "    1.00000000e+00   0.00000000e+00]]\n"
     ]
    }
   ],
   "source": [
    "imputer = Imputer(strategy='mean', axis=0) #constructor that calls Imputer class from sklearn\n",
    "imputer.fit(df) #fit imputer function to training data\n",
    "df = imputer.transform(df) #fill in missing values with mean\n",
    "print(df) "
   ]
  },
  {
   "cell_type": "code",
   "execution_count": 138,
   "metadata": {
    "collapsed": false
   },
   "outputs": [
    {
     "name": "stdout",
     "output_type": "stream",
     "text": [
      "Rows align, ready!\n"
     ]
    }
   ],
   "source": [
    "Y.shape #check Y shape (1460 samples)\n",
    "df.shape #check X shape (1460 x 289 dimensions)\n",
    "if Y.shape[0] == df.shape[0]: # perform check of shapes\n",
    "    print(\"Rows align, ready!\")\n",
    "else:\n",
    "    print(\"Rows do not align- check data structure shape!\")"
   ]
  },
  {
   "cell_type": "code",
   "execution_count": 139,
   "metadata": {
    "collapsed": false
   },
   "outputs": [
    {
     "name": "stdout",
     "output_type": "stream",
     "text": [
      "All df missing values have been imputed\n"
     ]
    }
   ],
   "source": [
    "if np.isfinite(df).all():\n",
    "    print(\"All df missing values have been imputed\")\n",
    "    X = df # rename df as X, since it is ready to be fed into data science models\n",
    "\n",
    "else: # if it is not ready\n",
    "    for col in range(df.shape[1]): #iterate through each column and print how many missing values there are\n",
    "        print(\"Column {0}: {1} missing values\".format(col, np.isnan(df[:,col]).sum()))"
   ]
  },
  {
   "cell_type": "code",
   "execution_count": 140,
   "metadata": {
    "collapsed": false
   },
   "outputs": [
    {
     "name": "stdout",
     "output_type": "stream",
     "text": [
      "Raw importance array:\n",
      "\n",
      "[  1.10203919e-03   7.27373290e-03   1.13021768e-02   5.74403172e-01\n",
      "   5.29198010e-03   1.57435370e-02   5.18839404e-03   2.41946325e-03\n",
      "   2.42789800e-02   3.50285215e-04   4.87414958e-03   3.42813710e-02\n",
      "   2.53613220e-02   3.68384140e-02   6.97048622e-05   1.26246173e-01\n",
      "   5.04161701e-04   5.57192597e-05   2.33003296e-03   1.89773150e-03\n",
      "   4.20040653e-04   8.71716632e-05   1.72217018e-02   5.27944047e-03\n",
      "   6.70475039e-03   1.04545313e-02   1.54499374e-02   3.13667088e-03\n",
      "   3.72736525e-03   1.18640031e-03   3.57980205e-04   1.61162615e-04\n",
      "   1.39529553e-05   2.34696301e-05   3.57887439e-03   2.24500506e-03\n",
      "   1.96649319e-05   1.27678313e-04   1.68935271e-05   4.75463630e-04\n",
      "   1.12436730e-03   0.00000000e+00   3.23603321e-06   2.18438703e-04\n",
      "   7.23815593e-05   1.64032349e-04   1.91454665e-05   7.08170462e-04\n",
      "   1.99395448e-03   1.27160795e-03   8.46693202e-06   2.69515208e-05\n",
      "   2.71844202e-04   0.00000000e+00   0.00000000e+00   5.51017963e-05\n",
      "   1.50565163e-03   1.20673176e-04   1.17298290e-04   3.39526838e-04\n",
      "   1.36580902e-04   4.85199501e-05   3.15728480e-06   4.53593472e-06\n",
      "   1.33716861e-09   3.82232202e-08   4.86025499e-05   2.08141421e-04\n",
      "   2.40936177e-04   1.23483056e-03   1.36466233e-03   9.14718691e-05\n",
      "   2.10073630e-04   4.17531592e-06   1.13044567e-05   1.25327796e-04\n",
      "   0.00000000e+00   3.01943165e-05   3.55597634e-04   2.97761513e-04\n",
      "   1.10766026e-03   5.85313956e-06   4.68617704e-05   1.15104591e-05\n",
      "   1.44065454e-04   9.44038565e-04   3.59781597e-04   0.00000000e+00\n",
      "   4.79557622e-05   4.53320417e-05   3.11349315e-04   8.59149140e-06\n",
      "   4.92316560e-04   4.83436379e-05   2.44123060e-05   0.00000000e+00\n",
      "   7.76323214e-07   0.00000000e+00   1.38380365e-07   1.81878817e-03\n",
      "   0.00000000e+00   3.11824427e-06   0.00000000e+00   0.00000000e+00\n",
      "   0.00000000e+00   4.19137335e-04   4.05074331e-06   1.86468804e-05\n",
      "   8.56355044e-07   2.65651724e-05   6.08840315e-05   1.37108720e-06\n",
      "   1.98229948e-04   0.00000000e+00   1.38301339e-04   6.95165523e-05\n",
      "   7.00232125e-07   3.04036254e-05   7.22041097e-05   1.78057246e-04\n",
      "   3.95875549e-04   5.57994834e-04   8.12490462e-08   0.00000000e+00\n",
      "   0.00000000e+00   2.02388210e-06   0.00000000e+00   2.39702214e-05\n",
      "   0.00000000e+00   7.59471974e-07   9.39864069e-07   1.92310522e-04\n",
      "   6.66547613e-05   3.98975729e-05   0.00000000e+00   1.52901446e-04\n",
      "   0.00000000e+00   9.36928306e-05   6.64105522e-05   0.00000000e+00\n",
      "   1.27205273e-04   4.00352732e-05   8.12527688e-07   6.83551496e-06\n",
      "   3.00072328e-04   9.29929525e-05   1.12355967e-06   0.00000000e+00\n",
      "   0.00000000e+00   0.00000000e+00   2.09179408e-06   0.00000000e+00\n",
      "   1.17368563e-05   5.37317174e-04   1.18679079e-06   2.17295670e-04\n",
      "   4.63789387e-05   7.66154206e-05   2.65667102e-09   1.85150837e-04\n",
      "   3.41176609e-04   1.44599903e-04   5.11218795e-06   2.81848973e-07\n",
      "   8.76244739e-05   8.19761241e-05   7.74761474e-05   4.07334636e-04\n",
      "   1.57853824e-07   1.28059499e-03   2.05226787e-04   2.32499178e-05\n",
      "   1.50631015e-05   6.63783016e-05   0.00000000e+00   3.53238006e-04\n",
      "   6.19196662e-05   1.27136008e-04   2.89577311e-04   3.85048279e-06\n",
      "   0.00000000e+00   2.21539430e-06   5.05847705e-04   4.13262006e-05\n",
      "   8.21607459e-04   1.35238197e-04   1.55658115e-04   1.33005758e-05\n",
      "   0.00000000e+00   1.09599769e-04   8.03579756e-05   4.70847684e-04\n",
      "   8.25587834e-05   4.88024081e-04   4.58625510e-04   3.90036944e-05\n",
      "   1.00832815e-03   1.63819670e-04   8.92660108e-05   1.55603822e-04\n",
      "   6.36663451e-05   6.19267735e-05   0.00000000e+00   5.38079650e-05\n",
      "   1.19502161e-05   6.98674021e-05   0.00000000e+00   3.02627639e-05\n",
      "   9.31264585e-06   0.00000000e+00   0.00000000e+00   0.00000000e+00\n",
      "   6.81596517e-04   7.31810726e-05   1.09206071e-04   0.00000000e+00\n",
      "   2.88776969e-04   1.01958155e-03   1.76209232e-03   8.01304528e-05\n",
      "   3.13555285e-05   0.00000000e+00   0.00000000e+00   4.38026040e-05\n",
      "   4.04366119e-04   2.12122212e-07   2.00415938e-03   1.34100652e-03\n",
      "   1.21050471e-05   2.68926471e-05   7.09894579e-05   7.78317725e-06\n",
      "   1.63787405e-05   0.00000000e+00   6.09029948e-04   1.66010720e-07\n",
      "   5.08080733e-06   6.31672988e-04   2.24452791e-06   5.69343993e-04\n",
      "   2.58406375e-06   9.73993741e-04   2.85955857e-07   9.04945341e-05\n",
      "   0.00000000e+00   2.47091242e-03   7.13372954e-04   5.62101557e-04\n",
      "   5.78598492e-04   0.00000000e+00   1.43045099e-05   6.70138938e-05\n",
      "   0.00000000e+00   2.96703064e-04   0.00000000e+00   1.68263944e-05\n",
      "   3.30805900e-06   0.00000000e+00   2.36227114e-04   3.24635775e-05\n",
      "   2.12840913e-05   4.16311012e-05   0.00000000e+00   0.00000000e+00\n",
      "   0.00000000e+00   7.30477404e-05   4.31941333e-05   1.62899049e-04\n",
      "   2.05856034e-06   0.00000000e+00   0.00000000e+00   1.69517717e-05\n",
      "   4.54868121e-06   6.29817979e-05   0.00000000e+00   0.00000000e+00\n",
      "   0.00000000e+00   0.00000000e+00   3.38428420e-07   6.41427127e-04\n",
      "   1.25757242e-05   7.35765995e-05   3.94898455e-04   4.63479378e-06\n",
      "   9.40314130e-09   1.17993825e-04   4.27864674e-04   5.36099427e-04]\n"
     ]
    }
   ],
   "source": [
    "forest = RandomForestRegressor(n_estimators=10, random_state=0)\n",
    "forest.fit(X, Y)\n",
    "importances = forest.feature_importances_ #generate array of feature importances\n",
    "print(\"Raw importance array:\\n\")\n",
    "print(importances)"
   ]
  },
  {
   "cell_type": "code",
   "execution_count": 141,
   "metadata": {
    "collapsed": false
   },
   "outputs": [
    {
     "data": {
      "text/plain": [
       "True"
      ]
     },
     "execution_count": 141,
     "metadata": {},
     "output_type": "execute_result"
    }
   ],
   "source": [
    "#check if importance array shape matches number of dimensions\n",
    "len(importances) == X.shape[1]"
   ]
  },
  {
   "cell_type": "code",
   "execution_count": 142,
   "metadata": {
    "collapsed": false
   },
   "outputs": [
    {
     "data": {
      "text/html": [
       "<div>\n",
       "<table border=\"1\" class=\"dataframe\">\n",
       "  <thead>\n",
       "    <tr style=\"text-align: right;\">\n",
       "      <th></th>\n",
       "      <th>Feature Importance</th>\n",
       "    </tr>\n",
       "  </thead>\n",
       "  <tbody>\n",
       "    <tr>\n",
       "      <th>OverallQual</th>\n",
       "      <td>57.44</td>\n",
       "    </tr>\n",
       "    <tr>\n",
       "      <th>GrLivArea</th>\n",
       "      <td>12.62</td>\n",
       "    </tr>\n",
       "    <tr>\n",
       "      <th>2ndFlrSF</th>\n",
       "      <td>3.68</td>\n",
       "    </tr>\n",
       "    <tr>\n",
       "      <th>TotalBsmtSF</th>\n",
       "      <td>3.43</td>\n",
       "    </tr>\n",
       "    <tr>\n",
       "      <th>1stFlrSF</th>\n",
       "      <td>2.54</td>\n",
       "    </tr>\n",
       "    <tr>\n",
       "      <th>BsmtFinSF1</th>\n",
       "      <td>2.43</td>\n",
       "    </tr>\n",
       "    <tr>\n",
       "      <th>TotRmsAbvGrd</th>\n",
       "      <td>1.72</td>\n",
       "    </tr>\n",
       "    <tr>\n",
       "      <th>YearBuilt</th>\n",
       "      <td>1.57</td>\n",
       "    </tr>\n",
       "    <tr>\n",
       "      <th>GarageArea</th>\n",
       "      <td>1.54</td>\n",
       "    </tr>\n",
       "    <tr>\n",
       "      <th>LotArea</th>\n",
       "      <td>1.13</td>\n",
       "    </tr>\n",
       "  </tbody>\n",
       "</table>\n",
       "</div>"
      ],
      "text/plain": [
       "              Feature Importance\n",
       "OverallQual                57.44\n",
       "GrLivArea                  12.62\n",
       "2ndFlrSF                    3.68\n",
       "TotalBsmtSF                 3.43\n",
       "1stFlrSF                    2.54\n",
       "BsmtFinSF1                  2.43\n",
       "TotRmsAbvGrd                1.72\n",
       "YearBuilt                   1.57\n",
       "GarageArea                  1.54\n",
       "LotArea                     1.13"
      ]
     },
     "execution_count": 142,
     "metadata": {},
     "output_type": "execute_result"
    }
   ],
   "source": [
    "#construct a new dataframe to hold feature importance data, NOTE: importances are percents out of 100%\n",
    "feature_importance = pd.DataFrame(importances*100, index=columnNames, columns= [\"Feature Importance\"])\n",
    "feature_importance = feature_importance.round(2) # round to 2 decimal places to make it easier to read\n",
    "feature_importance = feature_importance.sort_values(by=['Feature Importance'],ascending=False) #sort descending\n",
    "\n",
    "#cut off and print the top 10 most important values\n",
    "feature_importance.head(n=10)"
   ]
  }
 ],
 "metadata": {
  "kernelspec": {
   "display_name": "Python [Root]",
   "language": "python",
   "name": "Python [Root]"
  },
  "language_info": {
   "codemirror_mode": {
    "name": "ipython",
    "version": 2
   },
   "file_extension": ".py",
   "mimetype": "text/x-python",
   "name": "python",
   "nbconvert_exporter": "python",
   "pygments_lexer": "ipython2",
   "version": "2.7.12"
  }
 },
 "nbformat": 4,
 "nbformat_minor": 0
}
